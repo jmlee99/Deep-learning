{
 "cells": [
  {
   "cell_type": "markdown",
   "id": "49381267",
   "metadata": {},
   "source": [
    "# RNN : Unit, Memory Cell\n",
    "- 시계열 데이터 분석\n",
    "- 시계열 데이터 : 데이터가 순서가 있고 데이터가 순차적으로 연결이 되어있는 것이다.\n",
    "- RNN의 Unit은 다른 것과 다르게 weight가 두개가 있다.(출력값이 입력값으로 다시 돌아갈 때 weight가 있다.)\n",
    "- 앞선 Unit의 계산의 결과가 다음 Unit의 계산에 영향을 미친다.\n",
    "\n",
    "\n",
    "### RNN: application\n",
    "1. sequence-sequence\n",
    "2. sequence-vector\n",
    "3. vector-sequence\n",
    "4. Encoder - Decoder\n",
    "\n",
    "\n",
    "### RNN: Attention layer\n",
    "1. Encoder,Decoder 사이에 하나의 아웃풋 덩어리를 생성해서 Encode, Decoder사이에 끼운다."
   ]
  },
  {
   "cell_type": "code",
   "execution_count": 3,
   "id": "59289ff4",
   "metadata": {},
   "outputs": [
    {
     "name": "stderr",
     "output_type": "stream",
     "text": [
      "2023-06-19 20:03:07.438837: I tensorflow/core/util/port.cc:110] oneDNN custom operations are on. You may see slightly different numerical results due to floating-point round-off errors from different computation orders. To turn them off, set the environment variable `TF_ENABLE_ONEDNN_OPTS=0`.\n",
      "2023-06-19 20:03:07.524869: I tensorflow/core/platform/cpu_feature_guard.cc:182] This TensorFlow binary is optimized to use available CPU instructions in performance-critical operations.\n",
      "To enable the following instructions: AVX2 AVX512F AVX512_VNNI FMA, in other operations, rebuild TensorFlow with the appropriate compiler flags.\n",
      "2023-06-19 20:03:08.904755: W tensorflow/compiler/tf2tensorrt/utils/py_utils.cc:38] TF-TRT Warning: Could not find TensorRT\n"
     ]
    }
   ],
   "source": [
    "import numpy as np\n",
    "import pandas as pd\n",
    "import matplotlib.pyplot as plt\n",
    "import seaborn as sns\n",
    "\n",
    "from tensorflow import keras"
   ]
  },
  {
   "cell_type": "code",
   "execution_count": 4,
   "id": "fa9e3514",
   "metadata": {},
   "outputs": [],
   "source": [
    "def gen_time_series(batch_size, n_steps):\n",
    "    freq1, freq2, offset1, offset2 = np.random.rand(4, batch_size, 1)\n",
    "    time = np.linspace(0, 1, n_steps)\n",
    "    series = 0.5 * np.sin((time-offset1)*(freq1*10+10))\n",
    "    series += 0.2 * np.sin((time-offset2)*(freq2*20+20))\n",
    "    series += 0.1 * (np.random.rand(batch_size, n_steps)-0.5)\n",
    "    return np.expand_dims(series, -1).astype(np.float32)\n",
    "\n",
    "n_steps = 50\n",
    "series = gen_time_series(10000, n_steps+1)\n",
    "X_train, y_train = series[:7000, :n_steps], series[:7000, -1]\n",
    "X_test, y_test = series[7000:, :n_steps], series[7000:, -1]\n"
   ]
  },
  {
   "cell_type": "code",
   "execution_count": 5,
   "id": "47ab0251",
   "metadata": {},
   "outputs": [
    {
     "name": "stdout",
     "output_type": "stream",
     "text": [
      "(7000, 50, 1) (7000, 1)\n"
     ]
    }
   ],
   "source": [
    "print(X_train.shape, y_train.shape)\n",
    "# (7000, 50, 1) == (sample, step, 현재 step의 기록값)\n",
    "# 한 step에서의 기록값은 여러개가 될 수도 있다.\n",
    "# 즉, 데이터는 50개의 time step로 연결이 되어있다."
   ]
  },
  {
   "cell_type": "code",
   "execution_count": 7,
   "id": "6b0edf12",
   "metadata": {},
   "outputs": [
    {
     "data": {
      "text/plain": [
       "<matplotlib.collections.PathCollection at 0x7f13bbac96c0>"
      ]
     },
     "execution_count": 7,
     "metadata": {},
     "output_type": "execute_result"
    },
    {
     "data": {
      "image/png": "[encoded data removed]",
      "text/plain": [
       "<Figure size 432x288 with 1 Axes>"
      ]
     },
     "metadata": {
      "needs_background": "light"
     },
     "output_type": "display_data"
    }
   ],
   "source": [
    "_, axe = plt.subplots()\n",
    "axe.plot(X_train[0])\n",
    "axe.scatter([51], y_train[0])"
   ]
  },
  {
   "cell_type": "code",
   "execution_count": 8,
   "id": "fda49313",
   "metadata": {},
   "outputs": [
    {
     "name": "stderr",
     "output_type": "stream",
     "text": [
      "2023-06-19 20:13:38.189904: I tensorflow/compiler/xla/stream_executor/cuda/cuda_gpu_executor.cc:996] successful NUMA node read from SysFS had negative value (-1), but there must be at least one NUMA node, so returning NUMA node zero. See more at https://github.com/torvalds/linux/blob/v6.0/Documentation/ABI/testing/sysfs-bus-pci#L344-L355\n",
      "2023-06-19 20:13:38.231919: W tensorflow/core/common_runtime/gpu/gpu_device.cc:1956] Cannot dlopen some GPU libraries. Please make sure the missing libraries mentioned above are installed properly if you would like to use GPU. Follow the guide at https://www.tensorflow.org/install/gpu for how to download and setup the required libraries for your platform.\n",
      "Skipping registering GPU devices...\n"
     ]
    },
    {
     "name": "stdout",
     "output_type": "stream",
     "text": [
      "Epoch 1/10\n",
      "219/219 [==============================] - 4s 11ms/step - loss: 0.0795 - mae: 0.2424\n",
      "Epoch 2/10\n",
      "219/219 [==============================] - 2s 10ms/step - loss: 0.0564 - mae: 0.2035\n",
      "Epoch 3/10\n",
      "219/219 [==============================] - 2s 11ms/step - loss: 0.0392 - mae: 0.1686\n",
      "Epoch 4/10\n",
      "219/219 [==============================] - 2s 11ms/step - loss: 0.0265 - mae: 0.1373\n",
      "Epoch 5/10\n",
      "219/219 [==============================] - 2s 11ms/step - loss: 0.0183 - mae: 0.1130\n",
      "Epoch 6/10\n",
      "219/219 [==============================] - 2s 11ms/step - loss: 0.0141 - mae: 0.0982\n",
      "Epoch 7/10\n",
      "219/219 [==============================] - 2s 11ms/step - loss: 0.0124 - mae: 0.0916\n",
      "Epoch 8/10\n",
      "219/219 [==============================] - 2s 10ms/step - loss: 0.0119 - mae: 0.0892\n",
      "Epoch 9/10\n",
      "219/219 [==============================] - 2s 10ms/step - loss: 0.0117 - mae: 0.0882\n",
      "Epoch 10/10\n",
      "219/219 [==============================] - 2s 10ms/step - loss: 0.0115 - mae: 0.0876\n",
      "94/94 [==============================] - 1s 4ms/step - loss: 0.0115 - mae: 0.0872\n"
     ]
    },
    {
     "data": {
      "text/plain": [
       "[0.011470557190477848, 0.08723091334104538]"
      ]
     },
     "execution_count": 8,
     "metadata": {},
     "output_type": "execute_result"
    }
   ],
   "source": [
    "m1 = keras.Sequential([\n",
    "    keras.layers.SimpleRNN(1, input_shape=(None,1))\n",
    "])\n",
    "m1.compile(optimizer ='adam',\n",
    "          loss = 'mse',  # MeanSquareError\n",
    "           metrics='mae') # MeanApsoluteError\n",
    "m1.fit(X_train, y_train, epochs = 10, verbose = 1)\n",
    "m1.evaluate(X_test, y_test)"
   ]
  },
  {
   "cell_type": "code",
   "execution_count": 10,
   "id": "5106530b",
   "metadata": {},
   "outputs": [
    {
     "name": "stdout",
     "output_type": "stream",
     "text": [
      "94/94 [==============================] - 1s 4ms/step\n",
      "[-0.19900304]\n"
     ]
    }
   ],
   "source": [
    "pred = m1.predict(X_test)\n",
    "print(pred[0])"
   ]
  },
  {
   "cell_type": "code",
   "execution_count": 15,
   "id": "4f5ae9ef",
   "metadata": {},
   "outputs": [
    {
     "data": {
      "text/plain": [
       "<matplotlib.collections.PathCollection at 0x7f13ac5313f0>"
      ]
     },
     "execution_count": 15,
     "metadata": {},
     "output_type": "execute_result"
    },
    {
     "data": {
      "image/png": "[encoded data removed]",
      "text/plain": [
       "<Figure size 432x288 with 1 Axes>"
      ]
     },
     "metadata": {
      "needs_background": "light"
     },
     "output_type": "display_data"
    }
   ],
   "source": [
    "sample_no = 3\n",
    "_, axe = plt.subplots()\n",
    "axe.plot(X_test[0])\n",
    "axe.scatter([51], y_test[sample_no])\n",
    "axe.scatter([51], pred[sample_no], c = 'r')"
   ]
  },
  {
   "cell_type": "code",
   "execution_count": 21,
   "id": "3e74601d",
   "metadata": {},
   "outputs": [],
   "source": [
    "#####################Blood.csv\n",
    "\n",
    "data = pd.read_csv('blood.csv', encoding='utf8', delimiter=':', header=3)\n",
    "data.head()\n",
    "\n",
    "data = data.drop(['합계', '소계', '계'], axis = 1)"
   ]
  },
  {
   "cell_type": "code",
   "execution_count": 22,
   "id": "8727fd5a",
   "metadata": {},
   "outputs": [
    {
     "name": "stdout",
     "output_type": "stream",
     "text": [
      "        0        1        2        3        4        5        6        7    \\\n",
      "1   19717.0  21007.0  18606.0  18473.0  22297.0  18261.0  20134.0  17774.0   \n",
      "2   21367.0  24102.0  22376.0  18947.0  24395.0  21973.0  26835.0  23757.0   \n",
      "3   15640.0  17367.0  21009.0  16331.0  23085.0  16225.0  17677.0  17563.0   \n",
      "4   17341.0  19317.0  18592.0  19200.0  21419.0  17198.0  17688.0  18673.0   \n",
      "5   13853.0  14766.0  14144.0  13607.0  15485.0  14161.0  15242.0  13965.0   \n",
      "6    5982.0   6675.0   6143.0   6573.0   7500.0   6393.0   6683.0   6989.0   \n",
      "7   14183.0  15904.0  14596.0  14077.0  16534.0  14411.0  16273.0  13246.0   \n",
      "8    8846.0   8753.0   9579.0   9174.0   9028.0   8619.0   8963.0   8261.0   \n",
      "9    6896.0   6994.0   8125.0   8701.0   9759.0   7864.0   8754.0   7713.0   \n",
      "10  15512.0  15727.0  16590.0  17215.0  19709.0  16240.0  17170.0  16209.0   \n",
      "11   9342.0   9939.0  10378.0  10674.0  13057.0  11323.0  10505.0  10139.0   \n",
      "12  14868.0  15988.0  14667.0  15417.0  18606.0  16813.0  16263.0  13047.0   \n",
      "13   9179.0   9619.0  10255.0   9774.0  11941.0   9626.0  10728.0   9595.0   \n",
      "14   2566.0   2604.0   2792.0   2992.0   2835.0   2635.0   2541.0   2483.0   \n",
      "\n",
      "        8        9    ...      110      111      112      113      114  \\\n",
      "1   17877.0  18624.0  ...  15559.0  14946.0  15692.0  14673.0  13464.0   \n",
      "2   20177.0  24510.0  ...  20359.0  19836.0  19525.0  19592.0  18276.0   \n",
      "3   17138.0  18153.0  ...  19000.0  15885.0  18158.0  14836.0  16652.0   \n",
      "4   18725.0  19535.0  ...  20089.0  18494.0  19967.0  18101.0  17907.0   \n",
      "5   13828.0  13896.0  ...  13448.0  13676.0  14000.0  12385.0  13641.0   \n",
      "6    6407.0   6752.0  ...   7388.0   7187.0   7658.0   6651.0   7151.0   \n",
      "7   12490.0  14910.0  ...  19519.0  18552.0  20186.0  17700.0  19394.0   \n",
      "8    9161.0   9333.0  ...  13104.0  10939.0  11926.0  10691.0  10083.0   \n",
      "9    9042.0   8779.0  ...   8128.0   7503.0   7157.0   6782.0   7161.0   \n",
      "10  16943.0  18265.0  ...  22177.0  20031.0  21864.0  19253.0  20349.0   \n",
      "11  11242.0   9869.0  ...   8700.0   8472.0   8875.0   9335.0   9029.0   \n",
      "12  14641.0  14410.0  ...  17265.0  14661.0  16252.0  14593.0  16733.0   \n",
      "13   8562.0   9413.0  ...  10898.0  10454.0  11313.0  10354.0  10467.0   \n",
      "14   2519.0   2498.0  ...   3598.0   4009.0   3451.0   3673.0   3589.0   \n",
      "\n",
      "        115      116      117      118      119  \n",
      "1   14666.0  13364.0  14138.0  15249.0  16067.0  \n",
      "2   18458.0  17852.0  18436.0  20092.0  21149.0  \n",
      "3   14415.0  15153.0  15196.0  18140.0  17373.0  \n",
      "4   16953.0  18859.0  18434.0  21311.0  20628.0  \n",
      "5   15356.0  13321.0  14321.0  14549.0  15798.0  \n",
      "6    6596.0   6569.0   6357.0   7280.0   7525.0  \n",
      "7   19409.0  17717.0  18568.0  18818.0  20566.0  \n",
      "8   12644.0  11230.0   9907.0  11616.0  11119.0  \n",
      "9    6973.0   6954.0   6721.0   6955.0   7476.0  \n",
      "10  19183.0  18807.0  17819.0  19351.0  20372.0  \n",
      "11   8596.0   8310.0   7903.0   8668.0   9239.0  \n",
      "12  15514.0  14837.0  13989.0  15174.0  16279.0  \n",
      "13   9803.0   9733.0   9306.0  11062.0  11798.0  \n",
      "14   3259.0   3511.0   3247.0   3417.0   3628.0  \n",
      "\n",
      "[14 rows x 120 columns]\n"
     ]
    }
   ],
   "source": [
    "data.columns = [x for x in np.arange(120)]\n",
    "data.drop(0, axis =0, inplace=True)\n",
    "\n",
    "for c in data:\n",
    "    data[c] = data[c].apply(lambda x: x.replace(',', '')).astype('float32')\n",
    "\n",
    "print(data) # row == sample, columns == step"
   ]
  },
  {
   "cell_type": "code",
   "execution_count": 31,
   "id": "628858d6",
   "metadata": {},
   "outputs": [
    {
     "name": "stdout",
     "output_type": "stream",
     "text": [
      "(14, 119, 1) (14, 1)\n",
      "(12, 119, 1) (12, 1)\n"
     ]
    }
   ],
   "source": [
    "data.shape\n",
    "# smaple, step, 현재 step의 기록된 값\n",
    "X = np.expand_dims(data.iloc[:, :-1], -1)\n",
    "y = np.expand_dims(data.iloc[:, -1], -1)\n",
    "print(X.shape, y.shape)\n",
    "\n",
    "# train : 12, test: 2\n",
    "X_train = X[:12]\n",
    "X_test = X[12:]\n",
    "y_train = y[:12]\n",
    "y_test = y[12:]\n",
    "print(X_train.shape, y_train.shape)"
   ]
  },
  {
   "cell_type": "code",
   "execution_count": 34,
   "id": "38fc3743",
   "metadata": {},
   "outputs": [
    {
     "name": "stdout",
     "output_type": "stream",
     "text": [
      "Epoch 1/10\n",
      "1/1 [==============================] - 2s 2s/step - loss: 258900272.0000 - mae: 15299.1680\n",
      "Epoch 2/10\n",
      "1/1 [==============================] - 0s 58ms/step - loss: 258900096.0000 - mae: 15299.1611\n",
      "Epoch 3/10\n",
      "1/1 [==============================] - 0s 56ms/step - loss: 258899888.0000 - mae: 15299.1562\n",
      "Epoch 4/10\n",
      "1/1 [==============================] - 0s 55ms/step - loss: 258899712.0000 - mae: 15299.1514\n",
      "Epoch 5/10\n",
      "1/1 [==============================] - 0s 57ms/step - loss: 258899504.0000 - mae: 15299.1445\n",
      "Epoch 6/10\n",
      "1/1 [==============================] - 0s 60ms/step - loss: 258899280.0000 - mae: 15299.1367\n",
      "Epoch 7/10\n",
      "1/1 [==============================] - 0s 55ms/step - loss: 258899088.0000 - mae: 15299.1299\n",
      "Epoch 8/10\n",
      "1/1 [==============================] - 0s 66ms/step - loss: 258898896.0000 - mae: 15299.1240\n",
      "Epoch 9/10\n",
      "1/1 [==============================] - 0s 80ms/step - loss: 258898704.0000 - mae: 15299.1201\n",
      "Epoch 10/10\n",
      "1/1 [==============================] - 0s 95ms/step - loss: 258898512.0000 - mae: 15299.1123\n",
      "1/1 [==============================] - 1s 533ms/step - loss: 76175352.0000 - mae: 7712.8545\n"
     ]
    },
    {
     "data": {
      "text/plain": [
       "[76175352.0, 7712.8544921875]"
      ]
     },
     "execution_count": 34,
     "metadata": {},
     "output_type": "execute_result"
    }
   ],
   "source": [
    "m = keras.Sequential([\n",
    "    keras.layers.SimpleRNN(10, input_shape = (None,1), return_sequences=True),\n",
    "    keras.layers.SimpleRNN(5)\n",
    "])\n",
    "m.compile(loss= 'mse', optimizer = 'adam', metrics = 'mae')\n",
    "m.fit(X_train, y_train, epochs = 10)\n",
    "m.evaluate(X_test, y_test)"
   ]
  }
 ],
 "metadata": {
  "kernelspec": {
   "display_name": "Python 3 (ipykernel)",
   "language": "python",
   "name": "python3"
  },
  "language_info": {
   "codemirror_mode": {
    "name": "ipython",
    "version": 3
   },
   "file_extension": ".py",
   "mimetype": "text/x-python",
   "name": "python",
   "nbconvert_exporter": "python",
   "pygments_lexer": "ipython3",
   "version": "3.10.6"
  }
 },
 "nbformat": 4,
 "nbformat_minor": 5
}
