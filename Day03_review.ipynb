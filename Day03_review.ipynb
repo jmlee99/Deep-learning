{
 "cells": [
  {
   "cell_type": "code",
   "execution_count": 12,
   "id": "b8b2a078",
   "metadata": {},
   "outputs": [
    {
     "name": "stdout",
     "output_type": "stream",
     "text": [
      "Defaulting to user installation because normal site-packages is not writeable\n",
      "Collecting tensorflow\n",
      "  Using cached tensorflow-2.12.0-cp310-cp310-manylinux_2_17_x86_64.manylinux2014_x86_64.whl (585.9 MB)\n",
      "Requirement already satisfied: absl-py>=1.0.0 in /home/jjam/.local/lib/python3.10/site-packages (from tensorflow) (1.4.0)\n",
      "Requirement already satisfied: astunparse>=1.6.0 in /home/jjam/.local/lib/python3.10/site-packages (from tensorflow) (1.6.3)\n",
      "Requirement already satisfied: flatbuffers>=2.0 in /home/jjam/.local/lib/python3.10/site-packages (from tensorflow) (23.5.26)\n",
      "Requirement already satisfied: gast<=0.4.0,>=0.2.1 in /home/jjam/.local/lib/python3.10/site-packages (from tensorflow) (0.4.0)\n",
      "Requirement already satisfied: google-pasta>=0.1.1 in /home/jjam/.local/lib/python3.10/site-packages (from tensorflow) (0.2.0)\n",
      "Requirement already satisfied: grpcio<2.0,>=1.24.3 in /home/jjam/.local/lib/python3.10/site-packages (from tensorflow) (1.54.2)\n",
      "Requirement already satisfied: h5py>=2.9.0 in /home/jjam/.local/lib/python3.10/site-packages (from tensorflow) (3.8.0)\n",
      "Requirement already satisfied: jax>=0.3.15 in /home/jjam/.local/lib/python3.10/site-packages (from tensorflow) (0.4.12)\n",
      "Requirement already satisfied: keras<2.13,>=2.12.0 in /home/jjam/.local/lib/python3.10/site-packages (from tensorflow) (2.12.0)\n",
      "Requirement already satisfied: libclang>=13.0.0 in /home/jjam/.local/lib/python3.10/site-packages (from tensorflow) (16.0.0)\n",
      "Requirement already satisfied: numpy<1.24,>=1.22 in /home/jjam/.local/lib/python3.10/site-packages (from tensorflow) (1.23.5)\n",
      "Requirement already satisfied: opt-einsum>=2.3.2 in /home/jjam/.local/lib/python3.10/site-packages (from tensorflow) (3.3.0)\n",
      "Requirement already satisfied: packaging in /usr/lib/python3/dist-packages (from tensorflow) (21.3)\n",
      "Requirement already satisfied: protobuf!=4.21.0,!=4.21.1,!=4.21.2,!=4.21.3,!=4.21.4,!=4.21.5,<5.0.0dev,>=3.20.3 in /home/jjam/.local/lib/python3.10/site-packages (from tensorflow) (3.20.3)\n",
      "Requirement already satisfied: setuptools in /usr/lib/python3/dist-packages (from tensorflow) (59.6.0)\n",
      "Requirement already satisfied: six>=1.12.0 in /usr/lib/python3/dist-packages (from tensorflow) (1.16.0)\n",
      "Requirement already satisfied: tensorboard<2.13,>=2.12 in /home/jjam/.local/lib/python3.10/site-packages (from tensorflow) (2.12.3)\n",
      "Requirement already satisfied: tensorflow-estimator<2.13,>=2.12.0 in /home/jjam/.local/lib/python3.10/site-packages (from tensorflow) (2.12.0)\n",
      "Requirement already satisfied: termcolor>=1.1.0 in /home/jjam/.local/lib/python3.10/site-packages (from tensorflow) (2.3.0)\n",
      "Requirement already satisfied: typing-extensions>=3.6.6 in /home/jjam/.local/lib/python3.10/site-packages (from tensorflow) (4.6.3)\n",
      "Requirement already satisfied: wrapt<1.15,>=1.11.0 in /home/jjam/.local/lib/python3.10/site-packages (from tensorflow) (1.14.1)\n",
      "Requirement already satisfied: tensorflow-io-gcs-filesystem>=0.23.1 in /home/jjam/.local/lib/python3.10/site-packages (from tensorflow) (0.32.0)\n",
      "Requirement already satisfied: wheel<1.0,>=0.23.0 in /usr/lib/python3/dist-packages (from astunparse>=1.6.0->tensorflow) (0.37.1)\n",
      "Requirement already satisfied: ml-dtypes>=0.1.0 in /home/jjam/.local/lib/python3.10/site-packages (from jax>=0.3.15->tensorflow) (0.2.0)\n",
      "Requirement already satisfied: scipy>=1.7 in /usr/lib/python3/dist-packages (from jax>=0.3.15->tensorflow) (1.8.0)\n",
      "Requirement already satisfied: google-auth<3,>=1.6.3 in /home/jjam/.local/lib/python3.10/site-packages (from tensorboard<2.13,>=2.12->tensorflow) (2.19.0)\n",
      "Requirement already satisfied: google-auth-oauthlib<1.1,>=0.5 in /home/jjam/.local/lib/python3.10/site-packages (from tensorboard<2.13,>=2.12->tensorflow) (1.0.0)\n",
      "Requirement already satisfied: markdown>=2.6.8 in /home/jjam/.local/lib/python3.10/site-packages (from tensorboard<2.13,>=2.12->tensorflow) (3.4.3)\n",
      "Requirement already satisfied: requests<3,>=2.21.0 in /usr/lib/python3/dist-packages (from tensorboard<2.13,>=2.12->tensorflow) (2.25.1)\n",
      "Requirement already satisfied: tensorboard-data-server<0.8.0,>=0.7.0 in /home/jjam/.local/lib/python3.10/site-packages (from tensorboard<2.13,>=2.12->tensorflow) (0.7.0)\n",
      "Requirement already satisfied: werkzeug>=1.0.1 in /home/jjam/.local/lib/python3.10/site-packages (from tensorboard<2.13,>=2.12->tensorflow) (2.3.6)\n",
      "Requirement already satisfied: cachetools<6.0,>=2.0.0 in /home/jjam/.local/lib/python3.10/site-packages (from google-auth<3,>=1.6.3->tensorboard<2.13,>=2.12->tensorflow) (5.3.1)\n",
      "Requirement already satisfied: pyasn1-modules>=0.2.1 in /home/jjam/.local/lib/python3.10/site-packages (from google-auth<3,>=1.6.3->tensorboard<2.13,>=2.12->tensorflow) (0.3.0)\n",
      "Requirement already satisfied: rsa<5,>=3.1.4 in /home/jjam/.local/lib/python3.10/site-packages (from google-auth<3,>=1.6.3->tensorboard<2.13,>=2.12->tensorflow) (4.9)\n",
      "Requirement already satisfied: urllib3<2.0 in /usr/lib/python3/dist-packages (from google-auth<3,>=1.6.3->tensorboard<2.13,>=2.12->tensorflow) (1.26.5)\n",
      "Requirement already satisfied: requests-oauthlib>=0.7.0 in /home/jjam/.local/lib/python3.10/site-packages (from google-auth-oauthlib<1.1,>=0.5->tensorboard<2.13,>=2.12->tensorflow) (1.3.1)\n",
      "Requirement already satisfied: MarkupSafe>=2.1.1 in /home/jjam/.local/lib/python3.10/site-packages (from werkzeug>=1.0.1->tensorboard<2.13,>=2.12->tensorflow) (2.1.3)\n",
      "Requirement already satisfied: pyasn1<0.6.0,>=0.4.6 in /home/jjam/.local/lib/python3.10/site-packages (from pyasn1-modules>=0.2.1->google-auth<3,>=1.6.3->tensorboard<2.13,>=2.12->tensorflow) (0.5.0)\n",
      "Requirement already satisfied: oauthlib>=3.0.0 in /usr/lib/python3/dist-packages (from requests-oauthlib>=0.7.0->google-auth-oauthlib<1.1,>=0.5->tensorboard<2.13,>=2.12->tensorflow) (3.2.0)\n",
      "Installing collected packages: tensorflow\n",
      "Successfully installed tensorflow-2.12.0\n"
     ]
    }
   ],
   "source": [
    "!pip install tensorflow"
   ]
  },
  {
   "cell_type": "code",
   "execution_count": 19,
   "id": "d10207f9",
   "metadata": {},
   "outputs": [],
   "source": [
    "from tensorflow import keras\n",
    "\n",
    "from sklearn.datasets import load_iris\n",
    "from sklearn.model_selection import train_test_split"
   ]
  },
  {
   "cell_type": "code",
   "execution_count": 20,
   "id": "f41219fb",
   "metadata": {},
   "outputs": [],
   "source": [
    "X, y = load_iris(return_X_y = True)\n",
    "X_train, X_test, y_train, y_test = train_test_split(X, y, stratify = y, random_state = 10)"
   ]
  },
  {
   "cell_type": "code",
   "execution_count": 21,
   "id": "d9433c5d",
   "metadata": {},
   "outputs": [
    {
     "name": "stdout",
     "output_type": "stream",
     "text": [
      "(112, 4)\n"
     ]
    }
   ],
   "source": [
    "print(X_train.shape)"
   ]
  },
  {
   "cell_type": "code",
   "execution_count": 31,
   "id": "910327cf",
   "metadata": {},
   "outputs": [
    {
     "name": "stdout",
     "output_type": "stream",
     "text": [
      "hello batch # 0\n",
      "Epoch 1/5\n",
      "4/4 [==============================] - 1s 4ms/step - loss: 2.0483 - sparse_categorical_accuracy: 0.3304\n",
      "hello batch # 1\n",
      "Epoch 2/5\n",
      "4/4 [==============================] - 0s 5ms/step - loss: 1.9384 - sparse_categorical_accuracy: 0.3304\n",
      "hello batch # 2\n",
      "Epoch 3/5\n",
      "4/4 [==============================] - 0s 4ms/step - loss: 1.8257 - sparse_categorical_accuracy: 0.3304\n"
     ]
    },
    {
     "data": {
      "text/plain": [
       "<keras.callbacks.History at 0x7f32d8870eb0>"
      ]
     },
     "execution_count": 31,
     "metadata": {},
     "output_type": "execute_result"
    }
   ],
   "source": [
    "cb1 = [\n",
    "    keras.callbacks.EarlyStopping(monitor = 'sparse_categorical_accuracy',\n",
    "                                mode = 'max', min_delta = 0.001, patience = 2),\n",
    "                                                                # loss를 monitor하기로 했으면 mode = min이 된다.\n",
    "                                                                 # min_delta 다음 번 epoths를 돌때 0.001이라도 증가해야\n",
    "                                                                 # 다음 epoths로 넘어가게 해준다.\n",
    "                                                                #patience는 min_delta가 충족이 안되도 바로 끝내지말고 몇번 참아 봐라\n",
    "    keras.callbacks.LambdaCallback(\n",
    "        on_epoch_begin = lambda batch, logs: print('hello batch #', batch)\n",
    "    )\n",
    "]\n",
    "m = keras.Sequential([\n",
    "    keras.layers.Dense(12, input_shape = (4,), activation='relu'),\n",
    "    keras.layers.Dense(6, activation='relu'),\n",
    "    keras.layers.Dense(3)\n",
    "])\n",
    "\n",
    "m.compile(loss = keras.losses.SparseCategoricalCrossentropy(from_logits = True),\n",
    "          #lossfunction은 에러값(y_train과 현재 뉴런을 빠져 나온값)을 알려주고 현재 데이터를 어느 방향으로 붙여야할지를 알려주는 것이다.\n",
    "          #lossfunction은 정답지와 현재 들어온 값이랑 에러를 비교한다. 최종목표를 통해 갈려면 어느 방행으로 조절해야\n",
    "          # 하는지 알려주는 역할을 한다.\n",
    "         optimizer = keras.optimizers.Adam(),\n",
    "          # optimizer은 에러기울기를 찾아 들어갈때 얼마나 빠르게 찾아 들어가야하는지를 알려주는 function이다.\n",
    "          # weight를 조정해나갈때 간격이 얼마나 크게 조절해나갈것인가를 결정한다.\n",
    "         metrics = [keras.metrics.SparseCategoricalAccuracy()])\n",
    "\n",
    "m.fit(X_train, y_train, epochs=5, callbacks=cb1)\n",
    "# epochs를 몇번 줘야할지 고민이 된다.\n",
    "# callbacks =[]를 사용해서 list형태로 받는다.\n",
    "# 이것도 용량을 너무 크기 때문에 cb1 리스트를 주고 keras의 callbacks 함수를 쓴다."
   ]
  },
  {
   "cell_type": "code",
   "execution_count": null,
   "id": "c9c2c857",
   "metadata": {},
   "outputs": [],
   "source": [
    "m = keras.Sequential([\n",
    "    keras.layers.Dense(12, input_shape = (4,), activation='relu'),\n",
    "    keras.layers.Dense(6, activation='relu'),\n",
    "    keras.layers.Dense(3, activation = 'softmax') # softmax를 거치게 되면 마지막 3개의 값들이 0~1사이의 값이 나오게 되고\n",
    "                                                  # 이 3개의 0~1사이의 값을 다 더하면 1이 된다. 이것을 하면 loss function에\n",
    "                                                  # from_logits = True는 안적어도 된다.\n",
    "])\n",
    "# 방법 1\n",
    "m.compile(loss = keras.losses.SparseCategoricalCrossentropy(from_logits = True),\n",
    "         optimizer = keras.optimizers.Adam(),\n",
    "         metrics = [keras.metrics.SparseCategoricalAccuracy()])\n",
    "# 방법 2\n",
    "m.compile(loss = keras.losses.SparseCategoricalCrossentropy(from_logits = True),\n",
    "         optimizer = keras.optimizers.Adam(),\n",
    "         metrics = [keras.metrics.SparseCategoricalAccuracy()])\n",
    "# 방법 3\n",
    "m.compile(loss = 'SparseCategoricalCrossentropy',\n",
    "         optimizer = keras.optimizers.Adam(),\n",
    "         metrics = [keras.metrics.SparseCategoricalAccuracy()])\n",
    "\n",
    "m.fit(X_train, y_train, epochs=5)"
   ]
  },
  {
   "cell_type": "code",
   "execution_count": 17,
   "id": "8c537c3b",
   "metadata": {},
   "outputs": [
    {
     "name": "stdout",
     "output_type": "stream",
     "text": [
      "[0 2 1 0 1 1 2 1 1 1 2 0 2 2 1 2 0 2 0 2 0 1 1 1 0 1 0 2 2 1 1 2 0 0 0 1 0\n",
      " 0 0 1 1 2 0 2 1 0 2 1 0 0 2 0 2 0 0 0 1 2 1 0 1 2 1 0 1 1 2 1 1 0 1 2 1 0\n",
      " 2 2 2 1 0 2 2 1 1 2 1 2 1 2 0 0 0 0 0 2 1 2 2 2 0 0 1 0 1 2 2 2 0 2 0 2 0\n",
      " 1]\n",
      "[[1. 0. 0.]\n",
      " [0. 0. 1.]\n",
      " [0. 1. 0.]\n",
      " [1. 0. 0.]\n",
      " [0. 1. 0.]\n",
      " [0. 1. 0.]\n",
      " [0. 0. 1.]\n",
      " [0. 1. 0.]\n",
      " [0. 1. 0.]\n",
      " [0. 1. 0.]\n",
      " [0. 0. 1.]\n",
      " [1. 0. 0.]\n",
      " [0. 0. 1.]\n",
      " [0. 0. 1.]\n",
      " [0. 1. 0.]\n",
      " [0. 0. 1.]\n",
      " [1. 0. 0.]\n",
      " [0. 0. 1.]\n",
      " [1. 0. 0.]\n",
      " [0. 0. 1.]\n",
      " [1. 0. 0.]\n",
      " [0. 1. 0.]\n",
      " [0. 1. 0.]\n",
      " [0. 1. 0.]\n",
      " [1. 0. 0.]\n",
      " [0. 1. 0.]\n",
      " [1. 0. 0.]\n",
      " [0. 0. 1.]\n",
      " [0. 0. 1.]\n",
      " [0. 1. 0.]\n",
      " [0. 1. 0.]\n",
      " [0. 0. 1.]\n",
      " [1. 0. 0.]\n",
      " [1. 0. 0.]\n",
      " [1. 0. 0.]\n",
      " [0. 1. 0.]\n",
      " [1. 0. 0.]\n",
      " [1. 0. 0.]\n",
      " [1. 0. 0.]\n",
      " [0. 1. 0.]\n",
      " [0. 1. 0.]\n",
      " [0. 0. 1.]\n",
      " [1. 0. 0.]\n",
      " [0. 0. 1.]\n",
      " [0. 1. 0.]\n",
      " [1. 0. 0.]\n",
      " [0. 0. 1.]\n",
      " [0. 1. 0.]\n",
      " [1. 0. 0.]\n",
      " [1. 0. 0.]\n",
      " [0. 0. 1.]\n",
      " [1. 0. 0.]\n",
      " [0. 0. 1.]\n",
      " [1. 0. 0.]\n",
      " [1. 0. 0.]\n",
      " [1. 0. 0.]\n",
      " [0. 1. 0.]\n",
      " [0. 0. 1.]\n",
      " [0. 1. 0.]\n",
      " [1. 0. 0.]\n",
      " [0. 1. 0.]\n",
      " [0. 0. 1.]\n",
      " [0. 1. 0.]\n",
      " [1. 0. 0.]\n",
      " [0. 1. 0.]\n",
      " [0. 1. 0.]\n",
      " [0. 0. 1.]\n",
      " [0. 1. 0.]\n",
      " [0. 1. 0.]\n",
      " [1. 0. 0.]\n",
      " [0. 1. 0.]\n",
      " [0. 0. 1.]\n",
      " [0. 1. 0.]\n",
      " [1. 0. 0.]\n",
      " [0. 0. 1.]\n",
      " [0. 0. 1.]\n",
      " [0. 0. 1.]\n",
      " [0. 1. 0.]\n",
      " [1. 0. 0.]\n",
      " [0. 0. 1.]\n",
      " [0. 0. 1.]\n",
      " [0. 1. 0.]\n",
      " [0. 1. 0.]\n",
      " [0. 0. 1.]\n",
      " [0. 1. 0.]\n",
      " [0. 0. 1.]\n",
      " [0. 1. 0.]\n",
      " [0. 0. 1.]\n",
      " [1. 0. 0.]\n",
      " [1. 0. 0.]\n",
      " [1. 0. 0.]\n",
      " [1. 0. 0.]\n",
      " [1. 0. 0.]\n",
      " [0. 0. 1.]\n",
      " [0. 1. 0.]\n",
      " [0. 0. 1.]\n",
      " [0. 0. 1.]\n",
      " [0. 0. 1.]\n",
      " [1. 0. 0.]\n",
      " [1. 0. 0.]\n",
      " [0. 1. 0.]\n",
      " [1. 0. 0.]\n",
      " [0. 1. 0.]\n",
      " [0. 0. 1.]\n",
      " [0. 0. 1.]\n",
      " [0. 0. 1.]\n",
      " [1. 0. 0.]\n",
      " [0. 0. 1.]\n",
      " [1. 0. 0.]\n",
      " [0. 0. 1.]\n",
      " [1. 0. 0.]\n",
      " [0. 1. 0.]]\n"
     ]
    }
   ],
   "source": [
    "# 즉, OneHot encoding이란 정답 인덱스만 1을 넣고 다른건 을 넣는다.\n",
    "print(y_train)\n",
    "print(keras.utils.to_categorical(y_train))"
   ]
  },
  {
   "cell_type": "code",
   "execution_count": null,
   "id": "0e2dda83",
   "metadata": {},
   "outputs": [],
   "source": [
    "m = keras.Sequential([\n",
    "    keras.layers.Dense(12, input_shape = (4,), activation='relu'),\n",
    "    keras.layers.Dense(6, activation='relu'),\n",
    "    keras.layers.Dense(3) # softmax를 거치게 되면 마지막 3개의 값들이 0~1사이의 값이 나오게 되고\n",
    "                                                  # 이 3개의 0~1사이의 값을 다 더하면 1이 된다.\n",
    "])\n",
    "# 방법 1\n",
    "m.compile(loss = keras.losses.CategoricalCrossentropy(from_logits = True),\n",
    "         optimizer = keras.optimizers.Adam(),\n",
    "         metrics = [keras.metrics.SparseCategoricalAccuracy()])\n",
    "\n",
    "m.fit(X_train, y_train, epochs=5) \n",
    "# OneHot encoding이 되어있어야 loss function이 CategoricalCrossentropy가 제대로 돌아간다."
   ]
  },
  {
   "cell_type": "code",
   "execution_count": 32,
   "id": "5e513902",
   "metadata": {},
   "outputs": [
    {
     "name": "stdout",
     "output_type": "stream",
     "text": [
      "Epoch 1/5\n",
      "4/4 [==============================] - 1s 4ms/step - loss: 1.4089 - categorical_accuracy: 0.3304\n",
      "Epoch 2/5\n",
      "4/4 [==============================] - 0s 6ms/step - loss: 1.3261 - categorical_accuracy: 0.3304\n",
      "Epoch 3/5\n",
      "4/4 [==============================] - 0s 6ms/step - loss: 1.2638 - categorical_accuracy: 0.3304\n",
      "Epoch 4/5\n",
      "4/4 [==============================] - 0s 6ms/step - loss: 1.2236 - categorical_accuracy: 0.3304\n",
      "Epoch 5/5\n",
      "4/4 [==============================] - 0s 5ms/step - loss: 1.1959 - categorical_accuracy: 0.3304\n"
     ]
    },
    {
     "data": {
      "text/plain": [
       "<keras.callbacks.History at 0x7f327983b880>"
      ]
     },
     "execution_count": 32,
     "metadata": {},
     "output_type": "execute_result"
    }
   ],
   "source": [
    "y_train_onehot = (keras.utils.to_categorical(y_train))\n",
    "y_test_onehot = (keras.utils.to_categorical(y_test))\n",
    "\n",
    "m = keras.Sequential([\n",
    "    keras.layers.Dense(12, input_shape = (4,), activation='relu'),\n",
    "    keras.layers.Dense(6, activation='relu'),\n",
    "    keras.layers.Dense(3)\n",
    "])\n",
    "\n",
    "m.compile(loss = keras.losses.CategoricalCrossentropy(from_logits = True),\n",
    "         optimizer = keras.optimizers.Adam(),\n",
    "         metrics = [keras.metrics.CategoricalAccuracy()])\n",
    "\n",
    "m.fit(X_train, y_train_onehot, epochs=5) "
   ]
  }
 ],
 "metadata": {
  "kernelspec": {
   "display_name": "Python 3 (ipykernel)",
   "language": "python",
   "name": "python3"
  },
  "language_info": {
   "codemirror_mode": {
    "name": "ipython",
    "version": 3
   },
   "file_extension": ".py",
   "mimetype": "text/x-python",
   "name": "python",
   "nbconvert_exporter": "python",
   "pygments_lexer": "ipython3",
   "version": "3.10.6"
  }
 },
 "nbformat": 4,
 "nbformat_minor": 5
}
