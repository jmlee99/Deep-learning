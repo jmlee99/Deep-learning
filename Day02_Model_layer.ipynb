{
 "cells": [
  {
   "cell_type": "code",
   "execution_count": 24,
   "id": "a496a44f",
   "metadata": {},
   "outputs": [],
   "source": [
    "import tensorflow as tf\n",
    "from tensorflow import keras\n",
    "\n",
    "import numpy as np\n",
    "import matplotlib.pyplot as plt"
   ]
  },
  {
   "cell_type": "code",
   "execution_count": 3,
   "id": "c03863e2",
   "metadata": {},
   "outputs": [
    {
     "name": "stderr",
     "output_type": "stream",
     "text": [
      "2023-06-12 20:00:27.042641: I tensorflow/compiler/xla/stream_executor/cuda/cuda_gpu_executor.cc:996] successful NUMA node read from SysFS had negative value (-1), but there must be at least one NUMA node, so returning NUMA node zero. See more at https://github.com/torvalds/linux/blob/v6.0/Documentation/ABI/testing/sysfs-bus-pci#L344-L355\n",
      "2023-06-12 20:00:27.043842: W tensorflow/core/common_runtime/gpu/gpu_device.cc:1956] Cannot dlopen some GPU libraries. Please make sure the missing libraries mentioned above are installed properly if you would like to use GPU. Follow the guide at https://www.tensorflow.org/install/gpu for how to download and setup the required libraries for your platform.\n",
      "Skipping registering GPU devices...\n"
     ]
    }
   ],
   "source": [
    "model = keras.Sequential([\n",
    "#    keras.layers.InputLayer(input_shape = (1,)),\n",
    "    keras.layers.Dense(units = 8, input_shape = (1,), name = 'my_dense_input'), # 이걸로 위의 layer 생략가능하다. 맨 처음 hidden layer에만 적용 가능하다.\n",
    "    keras.layers.Dense(units = 4, name = 'my_dense_output')\n",
    "], name = 'my_model1')\n",
    "#model.summary()\n",
    "#model.layers[0].name\n",
    "#model.get_layer(index=0).name\n",
    "#model.get_layer(name = 'my_dense_input').name"
   ]
  },
  {
   "cell_type": "code",
   "execution_count": 4,
   "id": "52f915dc",
   "metadata": {},
   "outputs": [],
   "source": [
    "# 모델에 layer 추가 맨 마지막만 추가 가능\n",
    "model.add(keras.layers.Dense(units = 1, name = 'my_dense_final_output'))"
   ]
  },
  {
   "cell_type": "code",
   "execution_count": 5,
   "id": "81323460",
   "metadata": {},
   "outputs": [
    {
     "name": "stdout",
     "output_type": "stream",
     "text": [
      "Model: \"my_model1\"\n",
      "_________________________________________________________________\n",
      " Layer (type)                Output Shape              Param #   \n",
      "=================================================================\n",
      " my_dense_input (Dense)      (None, 8)                 16        \n",
      "                                                                 \n",
      " my_dense_output (Dense)     (None, 4)                 36        \n",
      "                                                                 \n",
      " my_dense_final_output (Dens  (None, 1)                5         \n",
      " e)                                                              \n",
      "                                                                 \n",
      "=================================================================\n",
      "Total params: 57\n",
      "Trainable params: 57\n",
      "Non-trainable params: 0\n",
      "_________________________________________________________________\n"
     ]
    }
   ],
   "source": [
    "model.summary()"
   ]
  },
  {
   "cell_type": "code",
   "execution_count": 6,
   "id": "c0a8869d",
   "metadata": {},
   "outputs": [
    {
     "name": "stdout",
     "output_type": "stream",
     "text": [
      "Model: \"my_model1\"\n",
      "_________________________________________________________________\n",
      " Layer (type)                Output Shape              Param #   \n",
      "=================================================================\n",
      " my_dense_input (Dense)      (None, 8)                 16        \n",
      "                                                                 \n",
      " my_dense_output (Dense)     (None, 4)                 36        \n",
      "                                                                 \n",
      "=================================================================\n",
      "Total params: 52\n",
      "Trainable params: 52\n",
      "Non-trainable params: 0\n",
      "_________________________________________________________________\n"
     ]
    }
   ],
   "source": [
    "# 모델에 layer 삭제, 맨 마지막에 삭제\n",
    "model.pop()\n",
    "model.summary()"
   ]
  },
  {
   "cell_type": "code",
   "execution_count": 7,
   "id": "e0cf844f",
   "metadata": {},
   "outputs": [
    {
     "name": "stdout",
     "output_type": "stream",
     "text": [
      "Model: \"sequential\"\n",
      "_________________________________________________________________\n",
      " Layer (type)                Output Shape              Param #   \n",
      "=================================================================\n",
      " dense (Dense)               (None, 10)                20        \n",
      "                                                                 \n",
      " dense_1 (Dense)             (None, 5)                 55        \n",
      "                                                                 \n",
      "=================================================================\n",
      "Total params: 75\n",
      "Trainable params: 75\n",
      "Non-trainable params: 0\n",
      "_________________________________________________________________\n"
     ]
    }
   ],
   "source": [
    "model2 = keras.Sequential()\n",
    "layer1 = keras.layers.Dense(10, input_shape = (1,))\n",
    "layer2 = keras.layers.Dense(5)\n",
    "\n",
    "model2.add(layer1)\n",
    "model2.add(layer2)\n",
    "model2.summary()\n",
    "\n",
    "\n",
    "#Sequential() 모델은 1자형으로 모델이다."
   ]
  },
  {
   "cell_type": "code",
   "execution_count": 8,
   "id": "12274424",
   "metadata": {},
   "outputs": [
    {
     "name": "stdout",
     "output_type": "stream",
     "text": [
      "Defaulting to user installation because normal site-packages is not writeable\n",
      "Requirement already satisfied: pydot in /home/jjam/.local/lib/python3.10/site-packages (1.4.2)\n",
      "Requirement already satisfied: graphviz in /home/jjam/.local/lib/python3.10/site-packages (0.20.1)\n",
      "Requirement already satisfied: pyparsing>=2.1.4 in /usr/lib/python3/dist-packages (from pydot) (2.4.7)\n"
     ]
    }
   ],
   "source": [
    "!pip install pydot graphviz"
   ]
  },
  {
   "cell_type": "code",
   "execution_count": 9,
   "id": "78dd36e0",
   "metadata": {},
   "outputs": [
    {
     "name": "stdout",
     "output_type": "stream",
     "text": [
      "You must install pydot (`pip install pydot`) and install graphviz (see instructions at https://graphviz.gitlab.io/download/) for plot_model to work.\n"
     ]
    }
   ],
   "source": [
    "keras.utils.plot_model(model2)"
   ]
  },
  {
   "cell_type": "code",
   "execution_count": 10,
   "id": "c456f496",
   "metadata": {},
   "outputs": [],
   "source": [
    "#### funtional model\n",
    "# 각각의 모델들의 핸들을 다 만드는 것과 비슷하다.\n",
    "input_layer = keras.layers.Input(shape=(1,))\n",
    "hidden_layer1 = keras.layers.Dense(1, name = 'hidden1')\n",
    "hidden_layer2 = keras.layers.Dense(1, name = 'hidden2')\n",
    "output_layer = keras.layers.Dense(1, name = 'output')"
   ]
  },
  {
   "cell_type": "markdown",
   "id": "ac9284e0",
   "metadata": {},
   "source": [
    " # colab1\n",
    "\n",
    "           model2 = keras.Sequential()\n",
    "           layer1 = keras.layers.Dense(10, input_shape = (1,), name = 'layer1')\n",
    "           layer2 = keras.layers.Dense(5, name='layer2')\n",
    "           \n",
    "           model2.add(layer1)\n",
    "           model2.add(layer2)\n",
    "           model2.summary()\n",
    "           keras.utils.plot_model(model2)\n",
    "           out1 = model2.predict(X)\n",
    "           print(out1, np.array(out1).shape)"
   ]
  },
  {
   "cell_type": "markdown",
   "id": "6763128e",
   "metadata": {},
   "source": [
    "# colab2\n",
    "        input_layer = keras.layers.Input(shape=(1,))\n",
    "        hidden_layer1 = keras.layers.Dense(1, name = 'hidden1')(input_layer) # 형태 출력값 = 함수 (입력값)\n",
    "        hidden_layer2 = keras.layers.Dense(1, name = 'hidden2')(input_layer)\n",
    "        output_layer = keras.layers.Dense(1, name = 'output')(hidden_layer2)\n",
    "        \n",
    "        #step1 = hidden_layer1(input_layer)\n",
    "        #step2 = hidden_layer2(step1)\n",
    "        #step3 = output_layer(step2)\n",
    "        \n",
    "        \n",
    "        #step1 = hidden_layer1(input_layer)\n",
    "        #step2 = hidden_layer2(input_layer)\n",
    "        #step3 = output_layer(step2)\n",
    "        \n",
    "        #model = keras.Model(inputs=[input_layer], outputs=[step1, step3])\n",
    "        model = keras.Model(inputs=[input_layer], outputs=[hidden_layer1, output_layer])\n",
    "        out2 = model.predict(X)\n",
    "        print(out2, np.array(out2).shape)\n",
    "        keras.utils.plot_model(model)"
   ]
  },
  {
   "cell_type": "markdown",
   "id": "e6293cd3",
   "metadata": {},
   "source": [
    "#### weight 값 초기값 설정 \n",
    "Layer weight initializers\n",
    "\n",
    "RandomNormal class : 정규화 커브를 따라 랜덤하게 초기값 잡는다.\n",
    "\n",
    "RandomUniform class : 일정하게 랜덤하게 초기값을 잡는다."
   ]
  },
  {
   "cell_type": "code",
   "execution_count": 22,
   "id": "5a6074eb",
   "metadata": {},
   "outputs": [
    {
     "name": "stdout",
     "output_type": "stream",
     "text": [
      "Model: \"my_model1\"\n",
      "_________________________________________________________________\n",
      " Layer (type)                Output Shape              Param #   \n",
      "=================================================================\n",
      " my_dense_input (Dense)      (None, 1)                 2         \n",
      "                                                                 \n",
      "=================================================================\n",
      "Total params: 2\n",
      "Trainable params: 0\n",
      "Non-trainable params: 2\n",
      "_________________________________________________________________\n"
     ]
    }
   ],
   "source": [
    "#### Layer\n",
    "model = keras.Sequential([\n",
    "    keras.layers.Dense(units = 1, input_shape=(1,), name = 'my_dense_input', kernel_initializer = keras.initializers.Ones())\n",
    "], name = 'my_model1')\n",
    "layer1 = model.get_layer(index=0)\n",
    "layer1.weights\n",
    "# weights 보기\n",
    "layer1.get_weights()\n",
    "# weights 덮어쓰기\n",
    "layer1.set_weights([np.array([[0.12345]]), np.array([0.54321])])\n",
    "layer1.get_weights()\n",
    "\n",
    "\n",
    "layer1.trainable = False\n",
    "layer1.trainable_weights # 나중에 machine learning을 돌릴때, training이 가능한 데이터를 trainable_weights라고 표기가 된다.\n",
    "model.summary()"
   ]
  },
  {
   "cell_type": "code",
   "execution_count": null,
   "id": "5efd3d6c",
   "metadata": {},
   "outputs": [],
   "source": [
    "# 학습하는 과정이 없는 layer 들이 있다. 그 중 하나가 Activation layer이다.\n",
    "# activation relu를 적용시키는 방법\n",
    "# 방법 1\n",
    "model = keras.Sequential([\n",
    "    keras.layers.Dense(input_shape=(1,), activation = 'relu')\n",
    "], name = 'my_model1')\n",
    "\n",
    "# 방법 2 ==옵션(매개변수)를 사용할 때 이렇게 사용\n",
    "model = keras.Sequential([\n",
    "    keras.layers.Dense(input_shape=(1,), activation = keras.activations.relu())\n",
    "], name = 'my_model1')\n",
    "\n",
    "\n",
    "# 방법 3\n",
    "model = keras.Sequential([\n",
    "    keras.layers.Dense(input_shape=(1,)),\n",
    "    keras.layers.ReLU()\n",
    "], name = 'my_model1')\n",
    "\n",
    "# 방법 4\n",
    "model = keras.Sequential([\n",
    "    keras.layers.Dense(input_shape=(1,)),\n",
    "    keras.layers.Activation('relu')\n",
    "], name = 'my_model1')\n",
    "\n",
    "# 방법 5 == 옵션(매개변수)를 사용할 때 이렇게 사용\n",
    "model = keras.Sequential([\n",
    "    keras.layers.Dense(input_shape=(1,)),\n",
    "    keras.layers.Activation(keras.activations.relu())\n",
    "], name = 'my_model1')"
   ]
  },
  {
   "cell_type": "code",
   "execution_count": 35,
   "id": "f784c583",
   "metadata": {},
   "outputs": [
    {
     "name": "stdout",
     "output_type": "stream",
     "text": [
      "4/4 [==============================] - 0s 2ms/step\n"
     ]
    },
    {
     "data": {
      "text/plain": [
       "[<matplotlib.lines.Line2D at 0x7f7e67e26da0>]"
      ]
     },
     "execution_count": 35,
     "metadata": {},
     "output_type": "execute_result"
    },
    {
     "data": {
      "image/png": "[encoded data removed]",
      "text/plain": [
       "<Figure size 432x288 with 1 Axes>"
      ]
     },
     "metadata": {
      "needs_background": "light"
     },
     "output_type": "display_data"
    }
   ],
   "source": [
    "X = np.linspace(-10, 10, 100).reshape(100, 1)\n",
    "model = keras.Sequential([\n",
    "    #keras.layers.Activation(keras.activations.sigmoid)\n",
    "    #keras.layers.activation('sigmoid')\n",
    "    #keras.layers.Activation('relu')\n",
    "    #keras.layers.ReLU(negative_slope = 0.2) # leakyrelu이다.\n",
    "    keras.layers.ELU()\n",
    "])\n",
    "_, axe = plt.subplots()\n",
    "axe.plot(X, model.predict(X))\n",
    "\n",
    "\n",
    "# sigmoid를 사용하는 이유 x값에 따라 얼마나 크게 할 것인가. 아니면 안줄 것인가.\n",
    "# 요즘은 사용하지 않는다. '폭주' 때문이다.\n",
    "# 뉴런 네트워크 안에서 계속 신호를 보내게 걸리거나, 계속 신호를 안보내게 걸리거나 한다.\n",
    "# 그래서 relu를 쓰는 것이 아직까지는 좋다. threthold아래에 걸려버리면 신호가 아예 나오지 않는 것이 있다.\n",
    "# 그래도 요즘은 relu를 쓰는데 이것도 애매해서 요즘은 leakyrelu를 쓴다. 이것은 relu에 alpha값을 바꾸면 만들 수 있다."
   ]
  },
  {
   "cell_type": "code",
   "execution_count": 36,
   "id": "a8200047",
   "metadata": {},
   "outputs": [],
   "source": [
    "# Convolution, Pooling layer는 CNN에 사용되는 layer 이다.\n",
    "# Recurrent layers는 RNN에 사용되는 layer 이다. (시계열 데이터 : 앞선 단계에 있는 값들이 그 이후에 값에 영향을 미친다.)\n",
    "# Preprocessing, Normalization layer 안에서 machine learning 까지 다 끝내는 것. training layer가 없다.\n",
    "# Regularization layer 과적합을 막는 layer (most use : dropout layer)\n",
    "# Attention layers transformer를 만드는 layer\n",
    "# Reshaping layers 말 그대로 reshape하는 layer\n",
    "# Merging layers "
   ]
  }
 ],
 "metadata": {
  "kernelspec": {
   "display_name": "Python 3 (ipykernel)",
   "language": "python",
   "name": "python3"
  },
  "language_info": {
   "codemirror_mode": {
    "name": "ipython",
    "version": 3
   },
   "file_extension": ".py",
   "mimetype": "text/x-python",
   "name": "python",
   "nbconvert_exporter": "python",
   "pygments_lexer": "ipython3",
   "version": "3.10.6"
  }
 },
 "nbformat": 4,
 "nbformat_minor": 5
}
