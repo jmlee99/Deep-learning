{
 "cells": [
  {
   "cell_type": "code",
   "execution_count": 11,
   "id": "d6bc7cc7",
   "metadata": {},
   "outputs": [],
   "source": [
    "import tensorflow as tf\n",
    "from tensorflow import keras\n",
    "\n",
    "from tensorflow.keras.datasets import cifar10\n",
    "\n",
    "import numpy as np\n",
    "import pandas as pd\n",
    "import matplotlib.pyplot as plt\n",
    "import seaborn as sns"
   ]
  },
  {
   "cell_type": "code",
   "execution_count": 12,
   "id": "c926aaf8",
   "metadata": {},
   "outputs": [],
   "source": [
    "(x_train, y_train), (x_test, y_test) = cifar10.load_data()"
   ]
  },
  {
   "cell_type": "code",
   "execution_count": 13,
   "id": "50edfeb1",
   "metadata": {},
   "outputs": [
    {
     "name": "stdout",
     "output_type": "stream",
     "text": [
      "(50000, 32, 32, 3)\n"
     ]
    }
   ],
   "source": [
    "print(x_train.shape) # image1장에 32 32 픽셀에 rgb 3개 세트가 있다."
   ]
  },
  {
   "cell_type": "code",
   "execution_count": 14,
   "id": "9548043b",
   "metadata": {},
   "outputs": [
    {
     "data": {
      "text/plain": [
       "<matplotlib.image.AxesImage at 0x7fd64341f1f0>"
      ]
     },
     "execution_count": 14,
     "metadata": {},
     "output_type": "execute_result"
    },
    {
     "data": {
      "image/png": "[encoded data removed]",
      "text/plain": [
       "<Figure size 432x288 with 1 Axes>"
      ]
     },
     "metadata": {
      "needs_background": "light"
     },
     "output_type": "display_data"
    }
   ],
   "source": [
    "_, axe = plt.subplots()\n",
    "axe.imshow(x_train[1])"
   ]
  },
  {
   "cell_type": "code",
   "execution_count": 34,
   "id": "21004451",
   "metadata": {},
   "outputs": [
    {
     "name": "stdout",
     "output_type": "stream",
     "text": [
      "Model: \"sequential_14\"\n",
      "_________________________________________________________________\n",
      " Layer (type)                Output Shape              Param #   \n",
      "=================================================================\n",
      " conv2d_21 (Conv2D)          (None, 30, 30, 32)        896       \n",
      "                                                                 \n",
      " max_pooling2d_12 (MaxPoolin  (None, 15, 15, 32)       0         \n",
      " g2D)                                                            \n",
      "                                                                 \n",
      " conv2d_22 (Conv2D)          (None, 13, 13, 32)        9248      \n",
      "                                                                 \n",
      " max_pooling2d_13 (MaxPoolin  (None, 6, 6, 32)         0         \n",
      " g2D)                                                            \n",
      "                                                                 \n",
      " flatten_6 (Flatten)         (None, 1152)              0         \n",
      "                                                                 \n",
      " dense_10 (Dense)            (None, 128)               147584    \n",
      "                                                                 \n",
      " dense_11 (Dense)            (None, 10)                1290      \n",
      "                                                                 \n",
      "=================================================================\n",
      "Total params: 159,018\n",
      "Trainable params: 159,018\n",
      "Non-trainable params: 0\n",
      "_________________________________________________________________\n"
     ]
    }
   ],
   "source": [
    "m1 = keras.Sequential([\n",
    "    keras.layers.Conv2D(32, kernel_size=(3,3), activation = 'relu', input_shape=(32, 32, 3),\n",
    "                       padding = 'valid', data_format = 'channels_last'), # 2D는 평면\n",
    "    # 32,32픽셀에서 3,3픽셀을 32개 를 준비하는 것이다.\n",
    "    keras.layers.MaxPooling2D(pool_size = (2,2)),\n",
    "    # 그 만들어 낸것을 stride를 안주었으니까 1개씩 움직이고,\n",
    "    # flatten의 갯수를 죽이게 하는 것이 pooling이 하는 역할이다.\n",
    "    keras.layers.Conv2D(32, kernel_size = (3,3), activation='relu'),\n",
    "    keras.layers.MaxPooling2D(pool_size = (2,2)),\n",
    "    keras.layers.Flatten(),\n",
    "    keras.layers.Dense(128, activation='relu'),\n",
    "    keras.layers.Dense(10)\n",
    "])\n",
    "\n",
    "# function중에는 padding = 모서리까지 다 써줘\n",
    "\n",
    "m1.compile(loss = keras.losses.SparseCategoricalCrossentropy(from_logits = True),\n",
    "         optimizer = keras.optimizers.Adam(learning_rate = 0.001),\n",
    "         metrics = ['accuracy'])\n",
    "\n",
    "m1.summary()\n",
    "# flatten의 갯수를 죽이게 하는 것이 pooling이 하는 역할이다."
   ]
  },
  {
   "cell_type": "code",
   "execution_count": 35,
   "id": "0034b4b1",
   "metadata": {},
   "outputs": [
    {
     "name": "stdout",
     "output_type": "stream",
     "text": [
      "Epoch 1/10\n",
      "1563/1563 [==============================] - 22s 13ms/step - loss: 2.1796 - accuracy: 0.3176\n",
      "Epoch 2/10\n",
      "1563/1563 [==============================] - 21s 13ms/step - loss: 1.4683 - accuracy: 0.4721\n",
      "Epoch 3/10\n",
      "1563/1563 [==============================] - 23s 15ms/step - loss: 1.2701 - accuracy: 0.5523\n",
      "Epoch 4/10\n",
      "1563/1563 [==============================] - 25s 16ms/step - loss: 1.1276 - accuracy: 0.6063\n",
      "Epoch 5/10\n",
      "1563/1563 [==============================] - 22s 14ms/step - loss: 1.0163 - accuracy: 0.6495\n",
      "Epoch 6/10\n",
      "1563/1563 [==============================] - 22s 14ms/step - loss: 0.9256 - accuracy: 0.6785\n",
      "Epoch 7/10\n",
      "1563/1563 [==============================] - 23s 15ms/step - loss: 0.8514 - accuracy: 0.7032\n",
      "Epoch 8/10\n",
      "1563/1563 [==============================] - 20s 13ms/step - loss: 0.7863 - accuracy: 0.7284\n",
      "Epoch 9/10\n",
      "1563/1563 [==============================] - 20s 13ms/step - loss: 0.7293 - accuracy: 0.7479\n",
      "Epoch 10/10\n",
      "1563/1563 [==============================] - 20s 13ms/step - loss: 0.6734 - accuracy: 0.7666\n"
     ]
    },
    {
     "data": {
      "text/plain": [
       "<keras.callbacks.History at 0x7fd64b7c9180>"
      ]
     },
     "execution_count": 35,
     "metadata": {},
     "output_type": "execute_result"
    }
   ],
   "source": [
    "m1.fit(x_train, y_train, epochs = 10)"
   ]
  },
  {
   "cell_type": "code",
   "execution_count": 37,
   "id": "9ad8efe4",
   "metadata": {},
   "outputs": [
    {
     "name": "stdout",
     "output_type": "stream",
     "text": [
      "[[[[10]\n",
      "   [11]\n",
      "   [12]\n",
      "   [13]\n",
      "   [14]]\n",
      "\n",
      "  [[15]\n",
      "   [16]\n",
      "   [17]\n",
      "   [18]\n",
      "   [19]]\n",
      "\n",
      "  [[20]\n",
      "   [21]\n",
      "   [22]\n",
      "   [23]\n",
      "   [24]]\n",
      "\n",
      "  [[25]\n",
      "   [26]\n",
      "   [27]\n",
      "   [28]\n",
      "   [29]]\n",
      "\n",
      "  [[30]\n",
      "   [31]\n",
      "   [32]\n",
      "   [33]\n",
      "   [34]]]]\n",
      "1/1 [==============================] - 0s 65ms/step\n"
     ]
    },
    {
     "data": {
      "text/plain": [
       "array([[[[-8.35351  ],\n",
       "         [-8.235739 ],\n",
       "         [-8.117968 ]],\n",
       "\n",
       "        [[-7.7646565],\n",
       "         [-7.646883 ],\n",
       "         [-7.5291123]],\n",
       "\n",
       "        [[-7.1758013],\n",
       "         [-7.0580306],\n",
       "         [-6.940257 ]]]], dtype=float32)"
      ]
     },
     "execution_count": 37,
     "metadata": {},
     "output_type": "execute_result"
    }
   ],
   "source": [
    "X = np.arange(10, 35).reshape(1,5,5,1)\n",
    "print(X)\n",
    "m = keras.Sequential([\n",
    "    keras.layers.Conv2D(1,3, activation = None, input_shape=(5,5,1))\n",
    "])\n",
    "m.predict(X)"
   ]
  },
  {
   "cell_type": "code",
   "execution_count": 42,
   "id": "6a672b8d",
   "metadata": {},
   "outputs": [
    {
     "name": "stdout",
     "output_type": "stream",
     "text": [
      "[[[[10 11 12 13 14]\n",
      "   [15 16 17 18 19]\n",
      "   [20 21 22 23 24]\n",
      "   [25 26 27 28 29]\n",
      "   [30 31 32 33 34]]]]\n",
      "1/1 [==============================] - 0s 66ms/step\n",
      "[[[[144. 153. 162.]\n",
      "   [189. 198. 207.]\n",
      "   [234. 243. 252.]]]]\n"
     ]
    }
   ],
   "source": [
    "X = np.arange(10, 35).reshape(1,1,5,5)\n",
    "print(X)\n",
    "m = keras.Sequential([\n",
    "    keras.layers.Conv2D(1,3, activation = None, input_shape=(1,5,5), data_format = 'channels_first',\n",
    "                       kernel_initializer = keras.initializers.Ones, # kernel은 픽셀에 곱해지는 값 a(픽셀) x X(kernel)\n",
    "                       bias_initializer = keras.initializers.Zeros) # bias는 절편 ax + b 에서 b\n",
    "])\n",
    "print(m.predict(X))\n",
    "\n",
    "\n",
    "#print(m.layers[0].weights)\n",
    "# 계산하기 편하게 kernel은 Ones로\n",
    "# bias는 Zeros로 바꿔둔다."
   ]
  },
  {
   "cell_type": "code",
   "execution_count": 40,
   "id": "d0a44331",
   "metadata": {},
   "outputs": [
    {
     "name": "stdout",
     "output_type": "stream",
     "text": [
      "144\n"
     ]
    }
   ],
   "source": [
    "a1 = np.arange(10, 35).reshape(5,5)\n",
    "print(a1[:3,:3].sum())"
   ]
  },
  {
   "cell_type": "code",
   "execution_count": 49,
   "id": "595c958e",
   "metadata": {},
   "outputs": [
    {
     "name": "stdout",
     "output_type": "stream",
     "text": [
      "[[[[10 11 12 13 14]\n",
      "   [15 16 17 18 19]\n",
      "   [20 21 22 23 24]\n",
      "   [25 26 27 28 29]\n",
      "   [30 31 32 33 34]]]]\n",
      "1/1 [==============================] - 0s 62ms/step\n",
      "(1, 4, 4, 1)\n",
      "[[[[16. 17. 18. 19.]\n",
      "   [21. 22. 23. 24.]\n",
      "   [26. 27. 28. 29.]\n",
      "   [31. 32. 33. 34.]]]]\n"
     ]
    }
   ],
   "source": [
    "# MaxPooling\n",
    "\n",
    "X = np.arange(10, 35).reshape(1,5,5,1)\n",
    "print(X.reshape(1,1,5,5))\n",
    "m = keras.Sequential([\n",
    "    keras.layers.MaxPooling2D(2, strides=1,input_shape=(5,5,1), data_format = 'channels_last',\n",
    "                                 )])\n",
    "pred = m.predict(X)\n",
    "print(pred.shape)\n",
    "print(pred.reshape(1,1,4,4))"
   ]
  },
  {
   "cell_type": "code",
   "execution_count": 48,
   "id": "61139275",
   "metadata": {},
   "outputs": [
    {
     "name": "stdout",
     "output_type": "stream",
     "text": [
      "[[[[10 11 12 13 14]\n",
      "   [15 16 17 18 19]\n",
      "   [20 21 22 23 24]\n",
      "   [25 26 27 28 29]\n",
      "   [30 31 32 33 34]]]]\n",
      "1/1 [==============================] - 0s 58ms/step\n",
      "(1, 4, 4, 1)\n",
      "[[[[13. 14. 15. 16.]\n",
      "   [18. 19. 20. 21.]\n",
      "   [23. 24. 25. 26.]\n",
      "   [28. 29. 30. 31.]]]]\n"
     ]
    }
   ],
   "source": [
    "# AveragePooling\n",
    "\n",
    "X = np.arange(10, 35).reshape(1,5,5,1)\n",
    "print(X.reshape(1,1,5,5))\n",
    "m = keras.Sequential([\n",
    "    #keras.layers.MaxPooling2D(2, strides=1,input_shape=(5,5,1), data_format = 'channels_last',\n",
    "    keras.layers.AveragePooling2D(2, strides=1,input_shape=(5,5,1), data_format = 'channels_last', \n",
    "    #kernel_initializer = keras.initializers.Ones, # kernel은 픽셀에 곱해지는 값 a(픽셀) x X(kernel)\n",
    "                       #bias_initializer = keras.initializers.Zeros) # bias는 절편 ax + b 에서 b\n",
    "                             )])\n",
    "pred = m.predict(X)\n",
    "print(pred.shape)\n",
    "print(pred.reshape(1,1,4,4))"
   ]
  },
  {
   "cell_type": "code",
   "execution_count": 52,
   "id": "6a27cec2",
   "metadata": {},
   "outputs": [
    {
     "name": "stdout",
     "output_type": "stream",
     "text": [
      "Downloading data from https://storage.googleapis.com/tensorflow/keras-applications/vgg16/vgg16_weights_tf_dim_ordering_tf_kernels_notop.h5\n",
      "58889256/58889256 [==============================] - 6s 0us/step\n",
      "Model: \"vgg16\"\n",
      "_________________________________________________________________\n",
      " Layer (type)                Output Shape              Param #   \n",
      "=================================================================\n",
      " input_3 (InputLayer)        [(None, 32, 32, 3)]       0         \n",
      "                                                                 \n",
      " block1_conv1 (Conv2D)       (None, 32, 32, 64)        1792      \n",
      "                                                                 \n",
      " block1_conv2 (Conv2D)       (None, 32, 32, 64)        36928     \n",
      "                                                                 \n",
      " block1_pool (MaxPooling2D)  (None, 16, 16, 64)        0         \n",
      "                                                                 \n",
      " block2_conv1 (Conv2D)       (None, 16, 16, 128)       73856     \n",
      "                                                                 \n",
      " block2_conv2 (Conv2D)       (None, 16, 16, 128)       147584    \n",
      "                                                                 \n",
      " block2_pool (MaxPooling2D)  (None, 8, 8, 128)         0         \n",
      "                                                                 \n",
      " block3_conv1 (Conv2D)       (None, 8, 8, 256)         295168    \n",
      "                                                                 \n",
      " block3_conv2 (Conv2D)       (None, 8, 8, 256)         590080    \n",
      "                                                                 \n",
      " block3_conv3 (Conv2D)       (None, 8, 8, 256)         590080    \n",
      "                                                                 \n",
      " block3_pool (MaxPooling2D)  (None, 4, 4, 256)         0         \n",
      "                                                                 \n",
      " block4_conv1 (Conv2D)       (None, 4, 4, 512)         1180160   \n",
      "                                                                 \n",
      " block4_conv2 (Conv2D)       (None, 4, 4, 512)         2359808   \n",
      "                                                                 \n",
      " block4_conv3 (Conv2D)       (None, 4, 4, 512)         2359808   \n",
      "                                                                 \n",
      " block4_pool (MaxPooling2D)  (None, 2, 2, 512)         0         \n",
      "                                                                 \n",
      " block5_conv1 (Conv2D)       (None, 2, 2, 512)         2359808   \n",
      "                                                                 \n",
      " block5_conv2 (Conv2D)       (None, 2, 2, 512)         2359808   \n",
      "                                                                 \n",
      " block5_conv3 (Conv2D)       (None, 2, 2, 512)         2359808   \n",
      "                                                                 \n",
      " block5_pool (MaxPooling2D)  (None, 1, 1, 512)         0         \n",
      "                                                                 \n",
      "=================================================================\n",
      "Total params: 14,714,688\n",
      "Trainable params: 14,714,688\n",
      "Non-trainable params: 0\n",
      "_________________________________________________________________\n"
     ]
    }
   ],
   "source": [
    "vgg16 = keras.applications.VGG16(input_shape =(32, 32, 3), include_top = False)\n",
    "vgg16.summary()"
   ]
  },
  {
   "cell_type": "code",
   "execution_count": 55,
   "id": "29c0d585",
   "metadata": {},
   "outputs": [
    {
     "name": "stdout",
     "output_type": "stream",
     "text": [
      "Model: \"sequential_25\"\n",
      "_________________________________________________________________\n",
      " Layer (type)                Output Shape              Param #   \n",
      "=================================================================\n",
      " vgg16 (Functional)          (None, 1, 1, 512)         14714688  \n",
      "                                                                 \n",
      " flatten_7 (Flatten)         (None, 512)               0         \n",
      "                                                                 \n",
      " dense_12 (Dense)            (None, 128)               65664     \n",
      "                                                                 \n",
      " dense_13 (Dense)            (None, 10)                1290      \n",
      "                                                                 \n",
      "=================================================================\n",
      "Total params: 14,781,642\n",
      "Trainable params: 14,781,642\n",
      "Non-trainable params: 0\n",
      "_________________________________________________________________\n"
     ]
    }
   ],
   "source": [
    "m = keras.Sequential([\n",
    "    vgg16,\n",
    "    keras.layers.Flatten(),\n",
    "    keras.layers.Dense(128, activation = 'relu'),\n",
    "    keras.layers.Dense(10)\n",
    "])\n",
    "\n",
    "m.summary()"
   ]
  },
  {
   "cell_type": "code",
   "execution_count": 53,
   "id": "b5565679",
   "metadata": {},
   "outputs": [
    {
     "data": {
      "text/plain": [
       "[]"
      ]
     },
     "execution_count": 53,
     "metadata": {},
     "output_type": "execute_result"
    }
   ],
   "source": [
    "tf.config.list_physical_devices('GPU')"
   ]
  },
  {
   "cell_type": "code",
   "execution_count": 56,
   "id": "ddf5c495",
   "metadata": {},
   "outputs": [
    {
     "data": {
      "text/plain": [
       "'2.12.0'"
      ]
     },
     "execution_count": 56,
     "metadata": {},
     "output_type": "execute_result"
    }
   ],
   "source": [
    "tf.__version__"
   ]
  },
  {
   "cell_type": "code",
   "execution_count": null,
   "id": "d71fde39",
   "metadata": {},
   "outputs": [],
   "source": []
  }
 ],
 "metadata": {
  "kernelspec": {
   "display_name": "Python 3 (ipykernel)",
   "language": "python",
   "name": "python3"
  },
  "language_info": {
   "codemirror_mode": {
    "name": "ipython",
    "version": 3
   },
   "file_extension": ".py",
   "mimetype": "text/x-python",
   "name": "python",
   "nbconvert_exporter": "python",
   "pygments_lexer": "ipython3",
   "version": "3.10.6"
  }
 },
 "nbformat": 4,
 "nbformat_minor": 5
}
