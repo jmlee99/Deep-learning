{
 "cells": [
  {
   "cell_type": "code",
   "execution_count": 1,
   "id": "0ebf423b",
   "metadata": {},
   "outputs": [
    {
     "name": "stderr",
     "output_type": "stream",
     "text": [
      "2023-06-09 20:41:09.695699: I tensorflow/core/util/port.cc:110] oneDNN custom operations are on. You may see slightly different numerical results due to floating-point round-off errors from different computation orders. To turn them off, set the environment variable `TF_ENABLE_ONEDNN_OPTS=0`.\n",
      "2023-06-09 20:41:09.699850: I tensorflow/tsl/cuda/cudart_stub.cc:28] Could not find cuda drivers on your machine, GPU will not be used.\n",
      "2023-06-09 20:41:09.786834: I tensorflow/tsl/cuda/cudart_stub.cc:28] Could not find cuda drivers on your machine, GPU will not be used.\n",
      "2023-06-09 20:41:09.787854: I tensorflow/core/platform/cpu_feature_guard.cc:182] This TensorFlow binary is optimized to use available CPU instructions in performance-critical operations.\n",
      "To enable the following instructions: AVX2 AVX512F AVX512_VNNI FMA, in other operations, rebuild TensorFlow with the appropriate compiler flags.\n",
      "2023-06-09 20:41:11.095370: W tensorflow/compiler/tf2tensorrt/utils/py_utils.cc:38] TF-TRT Warning: Could not find TensorRT\n"
     ]
    }
   ],
   "source": [
    "from sklearn.datasets import load_iris\n",
    "from sklearn.model_selection import train_test_split\n",
    "import tensorflow as tf\n",
    "from tensorflow import keras\n",
    "\n",
    "X, y = load_iris(return_X_y = True)\n",
    "X_train, X_test, y_train, y_test = train_test_split(X, y, random_state = 10)"
   ]
  },
  {
   "cell_type": "code",
   "execution_count": 2,
   "id": "edfc0c87",
   "metadata": {},
   "outputs": [
    {
     "data": {
      "text/plain": [
       "(112, 4)"
      ]
     },
     "execution_count": 2,
     "metadata": {},
     "output_type": "execute_result"
    }
   ],
   "source": [
    "print(X_train.shape)"
   ]
  },
  {
   "cell_type": "code",
   "execution_count": 6,
   "id": "1917df84",
   "metadata": {},
   "outputs": [
    {
     "name": "stderr",
     "output_type": "stream",
     "text": [
      "2023-06-09 20:44:29.426671: I tensorflow/compiler/xla/stream_executor/cuda/cuda_gpu_executor.cc:996] successful NUMA node read from SysFS had negative value (-1), but there must be at least one NUMA node, so returning NUMA node zero. See more at https://github.com/torvalds/linux/blob/v6.0/Documentation/ABI/testing/sysfs-bus-pci#L344-L355\n",
      "2023-06-09 20:44:29.428310: W tensorflow/core/common_runtime/gpu/gpu_device.cc:1956] Cannot dlopen some GPU libraries. Please make sure the missing libraries mentioned above are installed properly if you would like to use GPU. Follow the guide at https://www.tensorflow.org/install/gpu for how to download and setup the required libraries for your platform.\n",
      "Skipping registering GPU devices...\n"
     ]
    },
    {
     "name": "stdout",
     "output_type": "stream",
     "text": [
      "Epoch 1/50\n",
      "4/4 [==============================] - 1s 6ms/step - loss: 1.4030 - accuracy: 0.0000e+00\n",
      "Epoch 2/50\n",
      "4/4 [==============================] - 0s 4ms/step - loss: 1.2961 - accuracy: 0.0000e+00\n",
      "Epoch 3/50\n",
      "4/4 [==============================] - 0s 6ms/step - loss: 1.2355 - accuracy: 0.0625\n",
      "Epoch 4/50\n",
      "4/4 [==============================] - 0s 7ms/step - loss: 1.1864 - accuracy: 0.3393\n",
      "Epoch 5/50\n",
      "4/4 [==============================] - 0s 4ms/step - loss: 1.1468 - accuracy: 0.3393\n",
      "Epoch 6/50\n",
      "4/4 [==============================] - 0s 4ms/step - loss: 1.1084 - accuracy: 0.3393\n",
      "Epoch 7/50\n",
      "4/4 [==============================] - 0s 5ms/step - loss: 1.0707 - accuracy: 0.3393\n",
      "Epoch 8/50\n",
      "4/4 [==============================] - 0s 5ms/step - loss: 1.0330 - accuracy: 0.3393\n",
      "Epoch 9/50\n",
      "4/4 [==============================] - 0s 6ms/step - loss: 0.9965 - accuracy: 0.3393\n",
      "Epoch 10/50\n",
      "4/4 [==============================] - 0s 6ms/step - loss: 0.9630 - accuracy: 0.6875\n",
      "Epoch 11/50\n",
      "4/4 [==============================] - 0s 5ms/step - loss: 0.9311 - accuracy: 0.6875\n",
      "Epoch 12/50\n",
      "4/4 [==============================] - 0s 6ms/step - loss: 0.9034 - accuracy: 0.6875\n",
      "Epoch 13/50\n",
      "4/4 [==============================] - 0s 6ms/step - loss: 0.8762 - accuracy: 0.6875\n",
      "Epoch 14/50\n",
      "4/4 [==============================] - 0s 4ms/step - loss: 0.8523 - accuracy: 0.6875\n",
      "Epoch 15/50\n",
      "4/4 [==============================] - 0s 5ms/step - loss: 0.8272 - accuracy: 0.6875\n",
      "Epoch 16/50\n",
      "4/4 [==============================] - 0s 5ms/step - loss: 0.8065 - accuracy: 0.6875\n",
      "Epoch 17/50\n",
      "4/4 [==============================] - 0s 5ms/step - loss: 0.7831 - accuracy: 0.6875\n",
      "Epoch 18/50\n",
      "4/4 [==============================] - 0s 5ms/step - loss: 0.7619 - accuracy: 0.6875\n",
      "Epoch 19/50\n",
      "4/4 [==============================] - 0s 5ms/step - loss: 0.7413 - accuracy: 0.6875\n",
      "Epoch 20/50\n",
      "4/4 [==============================] - 0s 5ms/step - loss: 0.7220 - accuracy: 0.6875\n",
      "Epoch 21/50\n",
      "4/4 [==============================] - 0s 6ms/step - loss: 0.7026 - accuracy: 0.6875\n",
      "Epoch 22/50\n",
      "4/4 [==============================] - 0s 4ms/step - loss: 0.6849 - accuracy: 0.6875\n",
      "Epoch 23/50\n",
      "4/4 [==============================] - 0s 6ms/step - loss: 0.6676 - accuracy: 0.6875\n",
      "Epoch 24/50\n",
      "4/4 [==============================] - 0s 5ms/step - loss: 0.6521 - accuracy: 0.6875\n",
      "Epoch 25/50\n",
      "4/4 [==============================] - 0s 5ms/step - loss: 0.6373 - accuracy: 0.6875\n",
      "Epoch 26/50\n",
      "4/4 [==============================] - 0s 5ms/step - loss: 0.6222 - accuracy: 0.6875\n",
      "Epoch 27/50\n",
      "4/4 [==============================] - 0s 5ms/step - loss: 0.6078 - accuracy: 0.6875\n",
      "Epoch 28/50\n",
      "4/4 [==============================] - 0s 6ms/step - loss: 0.5951 - accuracy: 0.6875\n",
      "Epoch 29/50\n",
      "4/4 [==============================] - 0s 6ms/step - loss: 0.5824 - accuracy: 0.7143\n",
      "Epoch 30/50\n",
      "4/4 [==============================] - 0s 7ms/step - loss: 0.5692 - accuracy: 0.7321\n",
      "Epoch 31/50\n",
      "4/4 [==============================] - 0s 6ms/step - loss: 0.5582 - accuracy: 0.7411\n",
      "Epoch 32/50\n",
      "4/4 [==============================] - 0s 4ms/step - loss: 0.5468 - accuracy: 0.8214\n",
      "Epoch 33/50\n",
      "4/4 [==============================] - 0s 5ms/step - loss: 0.5370 - accuracy: 0.8661\n",
      "Epoch 34/50\n",
      "4/4 [==============================] - 0s 6ms/step - loss: 0.5269 - accuracy: 0.8571\n",
      "Epoch 35/50\n",
      "4/4 [==============================] - 0s 6ms/step - loss: 0.5172 - accuracy: 0.8571\n",
      "Epoch 36/50\n",
      "4/4 [==============================] - 0s 4ms/step - loss: 0.5104 - accuracy: 0.7679\n",
      "Epoch 37/50\n",
      "4/4 [==============================] - 0s 4ms/step - loss: 0.4994 - accuracy: 0.8304\n",
      "Epoch 38/50\n",
      "4/4 [==============================] - 0s 4ms/step - loss: 0.4921 - accuracy: 0.9107\n",
      "Epoch 39/50\n",
      "4/4 [==============================] - 0s 5ms/step - loss: 0.4859 - accuracy: 0.9464\n",
      "Epoch 40/50\n",
      "4/4 [==============================] - 0s 4ms/step - loss: 0.4773 - accuracy: 0.9464\n",
      "Epoch 41/50\n",
      "4/4 [==============================] - 0s 4ms/step - loss: 0.4686 - accuracy: 0.9196\n",
      "Epoch 42/50\n",
      "4/4 [==============================] - 0s 5ms/step - loss: 0.4617 - accuracy: 0.9018\n",
      "Epoch 43/50\n",
      "4/4 [==============================] - 0s 5ms/step - loss: 0.4558 - accuracy: 0.8661\n",
      "Epoch 44/50\n",
      "4/4 [==============================] - 0s 4ms/step - loss: 0.4490 - accuracy: 0.8661\n",
      "Epoch 45/50\n",
      "4/4 [==============================] - 0s 4ms/step - loss: 0.4432 - accuracy: 0.8661\n",
      "Epoch 46/50\n",
      "4/4 [==============================] - 0s 6ms/step - loss: 0.4377 - accuracy: 0.8839\n",
      "Epoch 47/50\n",
      "4/4 [==============================] - 0s 5ms/step - loss: 0.4318 - accuracy: 0.8839\n",
      "Epoch 48/50\n",
      "4/4 [==============================] - 0s 6ms/step - loss: 0.4258 - accuracy: 0.9018\n",
      "Epoch 49/50\n",
      "4/4 [==============================] - 0s 5ms/step - loss: 0.4191 - accuracy: 0.9286\n",
      "Epoch 50/50\n",
      "4/4 [==============================] - 0s 4ms/step - loss: 0.4147 - accuracy: 0.9464\n"
     ]
    }
   ],
   "source": [
    "#classifier\n",
    "model = keras.Sequential([\n",
    "    keras.layers.InputLayer(input_shape=[4,]),\n",
    "    keras.layers.Dense(64, activation = 'relu'),\n",
    "    keras.layers.Dense(3) # 3가지 품종을 예측해야 하기 때문에 3개를 줘야한다.\n",
    "                          # linear에서는 예측해야하는 값이 1개이기 때문에 1이다.\n",
    "])\n",
    "\n",
    "model.compile(optimizer='adam', loss = keras.losses.SparseCategoricalCrossentropy(from_logits=True),\n",
    "             metrics=['accuracy'])\n",
    "h = model.fit(X_train, y_train, epochs = 50)"
   ]
  },
  {
   "cell_type": "code",
   "execution_count": 7,
   "id": "9741f36c",
   "metadata": {},
   "outputs": [
    {
     "name": "stdout",
     "output_type": "stream",
     "text": [
      "<keras.callbacks.History object at 0x7f9ccb912f20>\n"
     ]
    }
   ],
   "source": [
    "print(h)"
   ]
  },
  {
   "cell_type": "code",
   "execution_count": 9,
   "id": "4d68b949",
   "metadata": {},
   "outputs": [
    {
     "data": {
      "text/plain": [
       "[<matplotlib.lines.Line2D at 0x7f9c7067f3a0>]"
      ]
     },
     "execution_count": 9,
     "metadata": {},
     "output_type": "execute_result"
    },
    {
     "data": {
      "image/png": "[encoded data removed]",
      "text/plain": [
       "<Figure size 432x288 with 1 Axes>"
      ]
     },
     "metadata": {
      "needs_background": "light"
     },
     "output_type": "display_data"
    }
   ],
   "source": [
    "import matplotlib.pyplot as plt\n",
    "\n",
    "_, axe = plt.subplots()\n",
    "axe.plot(h.history['accuracy'])"
   ]
  },
  {
   "cell_type": "code",
   "execution_count": null,
   "id": "28f4eb19",
   "metadata": {},
   "outputs": [],
   "source": []
  }
 ],
 "metadata": {
  "kernelspec": {
   "display_name": "Python 3 (ipykernel)",
   "language": "python",
   "name": "python3"
  },
  "language_info": {
   "codemirror_mode": {
    "name": "ipython",
    "version": 3
   },
   "file_extension": ".py",
   "mimetype": "text/x-python",
   "name": "python",
   "nbconvert_exporter": "python",
   "pygments_lexer": "ipython3",
   "version": "3.10.6"
  }
 },
 "nbformat": 4,
 "nbformat_minor": 5
}
