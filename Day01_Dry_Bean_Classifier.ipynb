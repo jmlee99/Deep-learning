{
 "cells": [
  {
   "cell_type": "code",
   "execution_count": 2,
   "id": "5b6a5494",
   "metadata": {},
   "outputs": [
    {
     "name": "stderr",
     "output_type": "stream",
     "text": [
      "2023-06-12 19:05:55.649581: I tensorflow/core/util/port.cc:110] oneDNN custom operations are on. You may see slightly different numerical results due to floating-point round-off errors from different computation orders. To turn them off, set the environment variable `TF_ENABLE_ONEDNN_OPTS=0`.\n",
      "2023-06-12 19:05:55.704845: I tensorflow/tsl/cuda/cudart_stub.cc:28] Could not find cuda drivers on your machine, GPU will not be used.\n",
      "2023-06-12 19:05:55.944684: I tensorflow/tsl/cuda/cudart_stub.cc:28] Could not find cuda drivers on your machine, GPU will not be used.\n",
      "2023-06-12 19:05:55.946618: I tensorflow/core/platform/cpu_feature_guard.cc:182] This TensorFlow binary is optimized to use available CPU instructions in performance-critical operations.\n",
      "To enable the following instructions: AVX2 AVX512F AVX512_VNNI FMA, in other operations, rebuild TensorFlow with the appropriate compiler flags.\n",
      "2023-06-12 19:05:57.683485: W tensorflow/compiler/tf2tensorrt/utils/py_utils.cc:38] TF-TRT Warning: Could not find TensorRT\n"
     ]
    }
   ],
   "source": [
    "import numpy as np\n",
    "import pandas as pd\n",
    "import matplotlib.pyplot as plt\n",
    "from tensorflow import keras\n",
    "import tensorflow as tf\n",
    "from sklearn.model_selection import train_test_split"
   ]
  },
  {
   "cell_type": "code",
   "execution_count": 3,
   "id": "a0d45577",
   "metadata": {},
   "outputs": [],
   "source": [
    "# uci DryBean\n",
    "# indep. var. (X): 13 ~16:ShapeFactor\n",
    "# dep. var. (y): 17:Class\n",
    "\n",
    "#DNN Classifier"
   ]
  },
  {
   "cell_type": "code",
   "execution_count": 4,
   "id": "b6a82f0b",
   "metadata": {},
   "outputs": [
    {
     "data": {
      "text/html": [
       "<div>\n",
       "<style scoped>\n",
       "    .dataframe tbody tr th:only-of-type {\n",
       "        vertical-align: middle;\n",
       "    }\n",
       "\n",
       "    .dataframe tbody tr th {\n",
       "        vertical-align: top;\n",
       "    }\n",
       "\n",
       "    .dataframe thead th {\n",
       "        text-align: right;\n",
       "    }\n",
       "</style>\n",
       "<table border=\"1\" class=\"dataframe\">\n",
       "  <thead>\n",
       "    <tr style=\"text-align: right;\">\n",
       "      <th></th>\n",
       "      <th>Area</th>\n",
       "      <th>Perimeter</th>\n",
       "      <th>MajorAxisLength</th>\n",
       "      <th>MinorAxisLength</th>\n",
       "      <th>AspectRation</th>\n",
       "      <th>Eccentricity</th>\n",
       "      <th>ConvexArea</th>\n",
       "      <th>EquivDiameter</th>\n",
       "      <th>Extent</th>\n",
       "      <th>Solidity</th>\n",
       "      <th>roundness</th>\n",
       "      <th>Compactness</th>\n",
       "      <th>ShapeFactor1</th>\n",
       "      <th>ShapeFactor2</th>\n",
       "      <th>ShapeFactor3</th>\n",
       "      <th>ShapeFactor4</th>\n",
       "      <th>Class</th>\n",
       "    </tr>\n",
       "  </thead>\n",
       "  <tbody>\n",
       "    <tr>\n",
       "      <th>0</th>\n",
       "      <td>28395</td>\n",
       "      <td>610.291</td>\n",
       "      <td>208.178117</td>\n",
       "      <td>173.888747</td>\n",
       "      <td>1.197191</td>\n",
       "      <td>0.549812</td>\n",
       "      <td>28715</td>\n",
       "      <td>190.141097</td>\n",
       "      <td>0.763923</td>\n",
       "      <td>0.988856</td>\n",
       "      <td>0.958027</td>\n",
       "      <td>0.913358</td>\n",
       "      <td>0.007332</td>\n",
       "      <td>0.003147</td>\n",
       "      <td>0.834222</td>\n",
       "      <td>0.998724</td>\n",
       "      <td>SEKER</td>\n",
       "    </tr>\n",
       "    <tr>\n",
       "      <th>1</th>\n",
       "      <td>28734</td>\n",
       "      <td>638.018</td>\n",
       "      <td>200.524796</td>\n",
       "      <td>182.734419</td>\n",
       "      <td>1.097356</td>\n",
       "      <td>0.411785</td>\n",
       "      <td>29172</td>\n",
       "      <td>191.272751</td>\n",
       "      <td>0.783968</td>\n",
       "      <td>0.984986</td>\n",
       "      <td>0.887034</td>\n",
       "      <td>0.953861</td>\n",
       "      <td>0.006979</td>\n",
       "      <td>0.003564</td>\n",
       "      <td>0.909851</td>\n",
       "      <td>0.998430</td>\n",
       "      <td>SEKER</td>\n",
       "    </tr>\n",
       "    <tr>\n",
       "      <th>2</th>\n",
       "      <td>29380</td>\n",
       "      <td>624.110</td>\n",
       "      <td>212.826130</td>\n",
       "      <td>175.931143</td>\n",
       "      <td>1.209713</td>\n",
       "      <td>0.562727</td>\n",
       "      <td>29690</td>\n",
       "      <td>193.410904</td>\n",
       "      <td>0.778113</td>\n",
       "      <td>0.989559</td>\n",
       "      <td>0.947849</td>\n",
       "      <td>0.908774</td>\n",
       "      <td>0.007244</td>\n",
       "      <td>0.003048</td>\n",
       "      <td>0.825871</td>\n",
       "      <td>0.999066</td>\n",
       "      <td>SEKER</td>\n",
       "    </tr>\n",
       "    <tr>\n",
       "      <th>3</th>\n",
       "      <td>30008</td>\n",
       "      <td>645.884</td>\n",
       "      <td>210.557999</td>\n",
       "      <td>182.516516</td>\n",
       "      <td>1.153638</td>\n",
       "      <td>0.498616</td>\n",
       "      <td>30724</td>\n",
       "      <td>195.467062</td>\n",
       "      <td>0.782681</td>\n",
       "      <td>0.976696</td>\n",
       "      <td>0.903936</td>\n",
       "      <td>0.928329</td>\n",
       "      <td>0.007017</td>\n",
       "      <td>0.003215</td>\n",
       "      <td>0.861794</td>\n",
       "      <td>0.994199</td>\n",
       "      <td>SEKER</td>\n",
       "    </tr>\n",
       "    <tr>\n",
       "      <th>4</th>\n",
       "      <td>30140</td>\n",
       "      <td>620.134</td>\n",
       "      <td>201.847882</td>\n",
       "      <td>190.279279</td>\n",
       "      <td>1.060798</td>\n",
       "      <td>0.333680</td>\n",
       "      <td>30417</td>\n",
       "      <td>195.896503</td>\n",
       "      <td>0.773098</td>\n",
       "      <td>0.990893</td>\n",
       "      <td>0.984877</td>\n",
       "      <td>0.970516</td>\n",
       "      <td>0.006697</td>\n",
       "      <td>0.003665</td>\n",
       "      <td>0.941900</td>\n",
       "      <td>0.999166</td>\n",
       "      <td>SEKER</td>\n",
       "    </tr>\n",
       "  </tbody>\n",
       "</table>\n",
       "</div>"
      ],
      "text/plain": [
       "    Area  Perimeter  MajorAxisLength  MinorAxisLength  AspectRation  \\\n",
       "0  28395    610.291       208.178117       173.888747      1.197191   \n",
       "1  28734    638.018       200.524796       182.734419      1.097356   \n",
       "2  29380    624.110       212.826130       175.931143      1.209713   \n",
       "3  30008    645.884       210.557999       182.516516      1.153638   \n",
       "4  30140    620.134       201.847882       190.279279      1.060798   \n",
       "\n",
       "   Eccentricity  ConvexArea  EquivDiameter    Extent  Solidity  roundness  \\\n",
       "0      0.549812       28715     190.141097  0.763923  0.988856   0.958027   \n",
       "1      0.411785       29172     191.272751  0.783968  0.984986   0.887034   \n",
       "2      0.562727       29690     193.410904  0.778113  0.989559   0.947849   \n",
       "3      0.498616       30724     195.467062  0.782681  0.976696   0.903936   \n",
       "4      0.333680       30417     195.896503  0.773098  0.990893   0.984877   \n",
       "\n",
       "   Compactness  ShapeFactor1  ShapeFactor2  ShapeFactor3  ShapeFactor4  Class  \n",
       "0     0.913358      0.007332      0.003147      0.834222      0.998724  SEKER  \n",
       "1     0.953861      0.006979      0.003564      0.909851      0.998430  SEKER  \n",
       "2     0.908774      0.007244      0.003048      0.825871      0.999066  SEKER  \n",
       "3     0.928329      0.007017      0.003215      0.861794      0.994199  SEKER  \n",
       "4     0.970516      0.006697      0.003665      0.941900      0.999166  SEKER  "
      ]
     },
     "execution_count": 4,
     "metadata": {},
     "output_type": "execute_result"
    }
   ],
   "source": [
    "file = 'Dry_Bean_Dataset.CSV'\n",
    "df = pd.read_csv(file, encoding = 'cp949')\n",
    "df.head()"
   ]
  },
  {
   "cell_type": "code",
   "execution_count": 5,
   "id": "9ce932a2",
   "metadata": {},
   "outputs": [
    {
     "data": {
      "text/plain": [
       "(13611, 17)"
      ]
     },
     "execution_count": 5,
     "metadata": {},
     "output_type": "execute_result"
    }
   ],
   "source": [
    "df.shape"
   ]
  },
  {
   "cell_type": "code",
   "execution_count": 11,
   "id": "03af1ddc",
   "metadata": {
    "scrolled": true
   },
   "outputs": [
    {
     "name": "stdout",
     "output_type": "stream",
     "text": [
      "       ShapeFactor1  ShapeFactor2  ShapeFactor3  ShapeFactor4\n",
      "0          0.007332      0.003147      0.834222      0.998724\n",
      "1          0.006979      0.003564      0.909851      0.998430\n",
      "2          0.007244      0.003048      0.825871      0.999066\n",
      "3          0.007017      0.003215      0.861794      0.994199\n",
      "4          0.006697      0.003665      0.941900      0.999166\n",
      "...             ...           ...           ...           ...\n",
      "13606      0.006858      0.001749      0.642988      0.998385\n",
      "13607      0.006688      0.001886      0.676099      0.998219\n",
      "13608      0.006681      0.001888      0.676884      0.996767\n",
      "13609      0.006724      0.001852      0.668237      0.995222\n",
      "13610      0.007001      0.001640      0.616221      0.998180\n",
      "\n",
      "[13611 rows x 4 columns]\n",
      "3    3546\n",
      "6    2636\n",
      "5    2027\n",
      "4    1928\n",
      "2    1630\n",
      "0    1322\n",
      "1     522\n",
      "Name: count, dtype: int64\n"
     ]
    }
   ],
   "source": [
    "X = df.iloc[:, 12:16]\n",
    "y = df.iloc[:, -1].astype('category').cat.codes\n",
    "print(X)\n",
    "print(y.value_counts())"
   ]
  },
  {
   "cell_type": "code",
   "execution_count": 12,
   "id": "47666e83",
   "metadata": {},
   "outputs": [],
   "source": [
    "X_train, X_test, y_train, y_test = train_test_split(X, y, random_state = 10)"
   ]
  },
  {
   "cell_type": "code",
   "execution_count": 15,
   "id": "c2d464b6",
   "metadata": {},
   "outputs": [
    {
     "name": "stdout",
     "output_type": "stream",
     "text": [
      "(10208, 4)\n"
     ]
    }
   ],
   "source": [
    "print(X_train.shape)"
   ]
  },
  {
   "cell_type": "code",
   "execution_count": 19,
   "id": "da4baa57",
   "metadata": {},
   "outputs": [
    {
     "name": "stdout",
     "output_type": "stream",
     "text": [
      "Epoch 1/50\n",
      "319/319 [==============================] - 1s 2ms/step - loss: 1.5953 - accuracy: 0.4031\n",
      "Epoch 2/50\n",
      "319/319 [==============================] - 1s 2ms/step - loss: 1.1992 - accuracy: 0.5531\n",
      "Epoch 3/50\n",
      "319/319 [==============================] - 1s 2ms/step - loss: 1.0935 - accuracy: 0.5852\n",
      "Epoch 4/50\n",
      "319/319 [==============================] - 1s 2ms/step - loss: 1.0594 - accuracy: 0.5943\n",
      "Epoch 5/50\n",
      "319/319 [==============================] - 1s 2ms/step - loss: 1.0405 - accuracy: 0.6030\n",
      "Epoch 6/50\n",
      "319/319 [==============================] - 1s 2ms/step - loss: 1.0321 - accuracy: 0.6019\n",
      "Epoch 7/50\n",
      "319/319 [==============================] - 1s 2ms/step - loss: 1.0224 - accuracy: 0.6050\n",
      "Epoch 8/50\n",
      "319/319 [==============================] - 1s 2ms/step - loss: 1.0115 - accuracy: 0.6091\n",
      "Epoch 9/50\n",
      "319/319 [==============================] - 1s 2ms/step - loss: 1.0006 - accuracy: 0.6114\n",
      "Epoch 10/50\n",
      "319/319 [==============================] - 1s 3ms/step - loss: 0.9766 - accuracy: 0.6179\n",
      "Epoch 11/50\n",
      "319/319 [==============================] - 1s 2ms/step - loss: 0.9605 - accuracy: 0.6207\n",
      "Epoch 12/50\n",
      "319/319 [==============================] - 1s 3ms/step - loss: 0.9285 - accuracy: 0.6320\n",
      "Epoch 13/50\n",
      "319/319 [==============================] - 1s 2ms/step - loss: 0.9012 - accuracy: 0.6407\n",
      "Epoch 14/50\n",
      "319/319 [==============================] - 0s 2ms/step - loss: 0.8729 - accuracy: 0.6559\n",
      "Epoch 15/50\n",
      "319/319 [==============================] - 1s 2ms/step - loss: 0.8340 - accuracy: 0.6713\n",
      "Epoch 16/50\n",
      "319/319 [==============================] - 1s 2ms/step - loss: 0.8070 - accuracy: 0.6926\n",
      "Epoch 17/50\n",
      "319/319 [==============================] - 1s 2ms/step - loss: 0.7695 - accuracy: 0.7159\n",
      "Epoch 18/50\n",
      "319/319 [==============================] - 1s 2ms/step - loss: 0.7479 - accuracy: 0.7319\n",
      "Epoch 19/50\n",
      "319/319 [==============================] - 0s 2ms/step - loss: 0.7148 - accuracy: 0.7561\n",
      "Epoch 20/50\n",
      "319/319 [==============================] - 1s 2ms/step - loss: 0.6914 - accuracy: 0.7688\n",
      "Epoch 21/50\n",
      "319/319 [==============================] - 1s 2ms/step - loss: 0.6643 - accuracy: 0.7872\n",
      "Epoch 22/50\n",
      "319/319 [==============================] - 0s 2ms/step - loss: 0.6413 - accuracy: 0.8005\n",
      "Epoch 23/50\n",
      "319/319 [==============================] - 1s 2ms/step - loss: 0.6248 - accuracy: 0.8042\n",
      "Epoch 24/50\n",
      "319/319 [==============================] - 1s 2ms/step - loss: 0.6069 - accuracy: 0.8166\n",
      "Epoch 25/50\n",
      "319/319 [==============================] - 1s 2ms/step - loss: 0.5865 - accuracy: 0.8246\n",
      "Epoch 26/50\n",
      "319/319 [==============================] - 1s 2ms/step - loss: 0.5727 - accuracy: 0.8245\n",
      "Epoch 27/50\n",
      "319/319 [==============================] - 1s 2ms/step - loss: 0.5568 - accuracy: 0.8335\n",
      "Epoch 28/50\n",
      "319/319 [==============================] - 1s 2ms/step - loss: 0.5479 - accuracy: 0.8312\n",
      "Epoch 29/50\n",
      "319/319 [==============================] - 1s 3ms/step - loss: 0.5285 - accuracy: 0.8423\n",
      "Epoch 30/50\n",
      "319/319 [==============================] - 1s 2ms/step - loss: 0.5231 - accuracy: 0.8423\n",
      "Epoch 31/50\n",
      "319/319 [==============================] - 1s 2ms/step - loss: 0.5074 - accuracy: 0.8509\n",
      "Epoch 32/50\n",
      "319/319 [==============================] - 1s 2ms/step - loss: 0.4974 - accuracy: 0.8526\n",
      "Epoch 33/50\n",
      "319/319 [==============================] - 1s 2ms/step - loss: 0.4937 - accuracy: 0.8456\n",
      "Epoch 34/50\n",
      "319/319 [==============================] - 1s 2ms/step - loss: 0.4801 - accuracy: 0.8538\n",
      "Epoch 35/50\n",
      "319/319 [==============================] - 1s 2ms/step - loss: 0.4754 - accuracy: 0.8575\n",
      "Epoch 36/50\n",
      "319/319 [==============================] - 1s 2ms/step - loss: 0.4642 - accuracy: 0.8550\n",
      "Epoch 37/50\n",
      "319/319 [==============================] - 1s 2ms/step - loss: 0.4593 - accuracy: 0.8594\n",
      "Epoch 38/50\n",
      "319/319 [==============================] - 1s 2ms/step - loss: 0.4520 - accuracy: 0.8581\n",
      "Epoch 39/50\n",
      "319/319 [==============================] - 1s 2ms/step - loss: 0.4438 - accuracy: 0.8622\n",
      "Epoch 40/50\n",
      "319/319 [==============================] - 0s 2ms/step - loss: 0.4366 - accuracy: 0.8648\n",
      "Epoch 41/50\n",
      "319/319 [==============================] - 0s 2ms/step - loss: 0.4341 - accuracy: 0.8638\n",
      "Epoch 42/50\n",
      "319/319 [==============================] - 1s 2ms/step - loss: 0.4295 - accuracy: 0.8634\n",
      "Epoch 43/50\n",
      "319/319 [==============================] - 1s 2ms/step - loss: 0.4275 - accuracy: 0.8614\n",
      "Epoch 44/50\n",
      "319/319 [==============================] - 1s 2ms/step - loss: 0.4191 - accuracy: 0.8634\n",
      "Epoch 45/50\n",
      "319/319 [==============================] - 1s 2ms/step - loss: 0.4198 - accuracy: 0.8640\n",
      "Epoch 46/50\n",
      "319/319 [==============================] - 1s 2ms/step - loss: 0.4096 - accuracy: 0.8684\n",
      "Epoch 47/50\n",
      "319/319 [==============================] - 1s 2ms/step - loss: 0.4058 - accuracy: 0.8676\n",
      "Epoch 48/50\n",
      "319/319 [==============================] - 1s 2ms/step - loss: 0.4036 - accuracy: 0.8648\n",
      "Epoch 49/50\n",
      "319/319 [==============================] - 1s 2ms/step - loss: 0.3981 - accuracy: 0.8704\n",
      "Epoch 50/50\n",
      "319/319 [==============================] - 1s 2ms/step - loss: 0.4018 - accuracy: 0.8652\n"
     ]
    }
   ],
   "source": [
    "model = keras.Sequential([\n",
    "    keras.layers.InputLayer(input_shape = (4,)),\n",
    "    keras.layers.Dense(12, activation = 'relu'), # keras.layers.Dense\n",
    "    keras.layers.Dense(7)\n",
    "])\n",
    "\n",
    "# keras.losses.SparseCategoricalCrossentropy(from_logits=True)\n",
    "model.compile(optimizer = tf.optimizers.Adam(learning_rate = 0.01),\n",
    "             loss = keras.losses.SparseCategoricalCrossentropy(from_logits=True),\n",
    "             metrics = ['accuracy']\n",
    "             )\n",
    "\n",
    "h = model.fit(X_train, y_train, epochs = 50)"
   ]
  },
  {
   "cell_type": "code",
   "execution_count": 18,
   "id": "e7d16555",
   "metadata": {},
   "outputs": [
    {
     "name": "stdout",
     "output_type": "stream",
     "text": [
      "Model: \"sequential_1\"\n",
      "_________________________________________________________________\n",
      " Layer (type)                Output Shape              Param #   \n",
      "=================================================================\n",
      " dense_2 (Dense)             (None, 12)                60        \n",
      "                                                                 \n",
      " dense_3 (Dense)             (None, 7)                 91        \n",
      "                                                                 \n",
      "=================================================================\n",
      "Total params: 151\n",
      "Trainable params: 151\n",
      "Non-trainable params: 0\n",
      "_________________________________________________________________\n"
     ]
    }
   ],
   "source": [
    "model.summary()\n",
    "\n",
    "# 똑같은 정확도를 낸다라고 가정을 하면, params(파라미터) 갯수가 조금 더 적은 것이 좋은 모델이다."
   ]
  },
  {
   "cell_type": "code",
   "execution_count": 23,
   "id": "4ed0888a",
   "metadata": {},
   "outputs": [
    {
     "data": {
      "text/plain": [
       "[<matplotlib.lines.Line2D at 0x7f2b906074c0>]"
      ]
     },
     "execution_count": 23,
     "metadata": {},
     "output_type": "execute_result"
    },
    {
     "data": {
      "image/png": "[encoded data removed]",
      "text/plain": [
       "<Figure size 432x288 with 1 Axes>"
      ]
     },
     "metadata": {
      "needs_background": "light"
     },
     "output_type": "display_data"
    }
   ],
   "source": [
    "#h.history['accuracy']\n",
    "_, axe = plt.subplots()\n",
    "axe.plot(h.history['accuracy'])"
   ]
  },
  {
   "cell_type": "code",
   "execution_count": 25,
   "id": "8009300d",
   "metadata": {},
   "outputs": [
    {
     "name": "stdout",
     "output_type": "stream",
     "text": [
      "107/107 [==============================] - 1s 2ms/step - loss: 0.3891 - accuracy: 0.8786\n"
     ]
    },
    {
     "data": {
      "text/plain": [
       "[0.3890549838542938, 0.8786364793777466]"
      ]
     },
     "execution_count": 25,
     "metadata": {},
     "output_type": "execute_result"
    }
   ],
   "source": [
    "model.evaluate(X_test, y_test) # 맨마지막의 모델의 정확도를 보여준다."
   ]
  }
 ],
 "metadata": {
  "kernelspec": {
   "display_name": "Python 3 (ipykernel)",
   "language": "python",
   "name": "python3"
  },
  "language_info": {
   "codemirror_mode": {
    "name": "ipython",
    "version": 3
   },
   "file_extension": ".py",
   "mimetype": "text/x-python",
   "name": "python",
   "nbconvert_exporter": "python",
   "pygments_lexer": "ipython3",
   "version": "3.10.6"
  }
 },
 "nbformat": 4,
 "nbformat_minor": 5
}
